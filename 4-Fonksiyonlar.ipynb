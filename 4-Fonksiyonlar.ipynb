{
 "cells": [
  {
   "cell_type": "markdown",
   "metadata": {},
   "source": [
    "**Fonksiyonlar**\n",
    "\n",
    "Sürekli tekrarlanması gereken işlemlerde aynı kodu tekrar tekrar yazmadan aynı işlevi birden çok kez gerçekleyebildiğimiz durumlarda kullanılır.\n",
    "\n",
    "**def** anahtar kelimesi ile oluşturulur.\n",
    "\n",
    "def fonksiyon_ismi (required)\n",
    "    return (optional)\n"
   ]
  },
  {
   "cell_type": "markdown",
   "metadata": {},
   "source": [
    "* Parametreli\n",
    "* Parametresiz\n",
    "\n",
    "olarak ikiye ayrılıyor."
   ]
  },
  {
   "cell_type": "code",
   "execution_count": 5,
   "metadata": {},
   "outputs": [
    {
     "name": "stdout",
     "output_type": "stream",
     "text": [
      "Hoş geldiniz!\n"
     ]
    }
   ],
   "source": [
    "def selamla(): # parametresiz\n",
    "    print(\"Hoş geldiniz!\") # girinti çıkıntılar önemli\n",
    "\n",
    "selamla() # bu fonksiyonu çağırmazsanız bu fonksiyon çalışmaz"
   ]
  },
  {
   "cell_type": "code",
   "execution_count": 6,
   "metadata": {},
   "outputs": [
    {
     "name": "stdout",
     "output_type": "stream",
     "text": [
      "Hoş geldin Bilge\n"
     ]
    }
   ],
   "source": [
    "def selamla(name): # parametreli\n",
    "    print(f\"Hoş geldin {name}\")\n",
    "    \n",
    "selamla(\"Bilge\")"
   ]
  },
  {
   "cell_type": "code",
   "execution_count": 7,
   "metadata": {},
   "outputs": [],
   "source": [
    "# def add(num1, num2):\n",
    "#     num3 = num1 + num2\n",
    "#     return num3\n",
    "\n",
    "# result = add(4,9)\n",
    "# print(\"Sonuç : \", result)   böyle de yapabilirsin ama gereksiz, boşuna yer kaplıyor"
   ]
  },
  {
   "cell_type": "code",
   "execution_count": 8,
   "metadata": {},
   "outputs": [
    {
     "name": "stdout",
     "output_type": "stream",
     "text": [
      "Sonuç :  13\n"
     ]
    }
   ],
   "source": [
    "def add(num1, num2):\n",
    "    return num1 + num2\n",
    "\n",
    "print(\"Sonuç : \", add(4,9))"
   ]
  },
  {
   "cell_type": "markdown",
   "metadata": {},
   "source": [
    "Modülün import edilmesi ile beraber fonksiyon kullanımı"
   ]
  },
  {
   "cell_type": "code",
   "execution_count": 34,
   "metadata": {},
   "outputs": [
    {
     "name": "stdout",
     "output_type": "stream",
     "text": [
      "177\n"
     ]
    }
   ],
   "source": [
    "import random # or directly from random import randint\n",
    "\n",
    "print(random.randint(10, 200)) # randomun içindeki bir fonksiyonu kullandık"
   ]
  },
  {
   "cell_type": "markdown",
   "metadata": {},
   "source": [
    "**Birden fazla dönüş**"
   ]
  },
  {
   "cell_type": "code",
   "execution_count": 38,
   "metadata": {},
   "outputs": [
    {
     "name": "stdout",
     "output_type": "stream",
     "text": [
      "İki değerin;\n",
      "Toplamı: 15,\n",
      "Farkı: 9\n",
      "Çarpımı: 36\n",
      "Bölümü: 4.0\n"
     ]
    },
    {
     "data": {
      "text/plain": [
       "(15, 9, 36, 4.0)"
      ]
     },
     "execution_count": 38,
     "metadata": {},
     "output_type": "execute_result"
    }
   ],
   "source": [
    "def calculator(num1, num2):\n",
    "    add = num1 + num2\n",
    "    sub = num1 - num2\n",
    "    multiply = num1 * num2\n",
    "    division = num1 / num2\n",
    "\n",
    "    return add, sub, multiply, division\n",
    "\n",
    "a, b, c, d = calculator(12, 3)\n",
    "print(f\"İki değerin;\\nToplamı: {a},\\nFarkı: {b}\\nÇarpımı: {c}\\nBölümü: {d}\")\n",
    "calculator(12, 3)"
   ]
  },
  {
   "cell_type": "markdown",
   "metadata": {},
   "source": [
    "Fonksiyonlar içerisinde değişkenlerin kapsamı \n",
    "\n",
    "* Yerel Değişken\n",
    "* Global Değişken"
   ]
  },
  {
   "cell_type": "code",
   "execution_count": 40,
   "metadata": {},
   "outputs": [
    {
     "name": "stdout",
     "output_type": "stream",
     "text": [
      "Fonksiyon içerisinde  Local\n",
      "Fonksiyon içerisinde  Global\n",
      "Fonksiyon dışında  Global\n"
     ]
    },
    {
     "ename": "NameError",
     "evalue": "name 'local_variable' is not defined",
     "output_type": "error",
     "traceback": [
      "\u001b[1;31m---------------------------------------------------------------------------\u001b[0m",
      "\u001b[1;31mNameError\u001b[0m                                 Traceback (most recent call last)",
      "Cell \u001b[1;32mIn [40], line 10\u001b[0m\n\u001b[0;32m      8\u001b[0m func()\n\u001b[0;32m      9\u001b[0m \u001b[38;5;28mprint\u001b[39m(\u001b[38;5;124m\"\u001b[39m\u001b[38;5;124mFonksiyon dışında \u001b[39m\u001b[38;5;124m\"\u001b[39m, global_variable)\n\u001b[1;32m---> 10\u001b[0m \u001b[38;5;28mprint\u001b[39m(\u001b[38;5;124m\"\u001b[39m\u001b[38;5;124mFonksiyon dışında \u001b[39m\u001b[38;5;124m\"\u001b[39m, \u001b[43mlocal_variable\u001b[49m)\n",
      "\u001b[1;31mNameError\u001b[0m: name 'local_variable' is not defined"
     ]
    }
   ],
   "source": [
    "global_variable = \"Global\"\n",
    "\n",
    "def func():\n",
    "    local_variable = \"Local\"\n",
    "    print(\"Fonksiyon içerisinde \", local_variable)\n",
    "    print(\"Fonksiyon içerisinde \", global_variable)\n",
    "\n",
    "func()\n",
    "print(\"Fonksiyon dışında \", global_variable)\n",
    "print(\"Fonksiyon dışında \", local_variable)"
   ]
  },
  {
   "cell_type": "code",
   "execution_count": 43,
   "metadata": {},
   "outputs": [
    {
     "name": "stdout",
     "output_type": "stream",
     "text": [
      "9\n",
      "4\n",
      "9\n"
     ]
    }
   ],
   "source": [
    "a = 9 \n",
    "\n",
    "def print1():\n",
    "    print(a) # global\n",
    "\n",
    "def print2():\n",
    "    a = 4 # yerel\n",
    "    print(a)\n",
    "\n",
    "def print3():\n",
    "    print(a) # global\n",
    "\n",
    "print1()\n",
    "print2() \n",
    "print3()\n"
   ]
  },
  {
   "cell_type": "markdown",
   "metadata": {},
   "source": [
    "**Default parametre tanımlama**"
   ]
  },
  {
   "cell_type": "code",
   "execution_count": 45,
   "metadata": {},
   "outputs": [
    {
     "name": "stdout",
     "output_type": "stream",
     "text": [
      "Hoş geldin  Hatice\n",
      "Hoş geldin  Sisterslab\n"
     ]
    }
   ],
   "source": [
    "def say_hello(name = \"Sisterslab\"): # gönderilen için o değer, göndermezsek default değer \n",
    "    print(\"Hoş geldin \", name)\n",
    "\n",
    "say_hello(\"Hatice\")\n",
    "say_hello()\n"
   ]
  },
  {
   "cell_type": "code",
   "execution_count": 47,
   "metadata": {},
   "outputs": [
    {
     "name": "stdout",
     "output_type": "stream",
     "text": [
      "Rabia adlı personel 26 yaşında. Maaşı : 10000\n",
      "Zehra adlı personel 25 yaşında. Maaşı : 5000\n"
     ]
    }
   ],
   "source": [
    "def person(name, age, salary = 5000): # default değişkenleri genelde sonda olur\n",
    "    print(f\"{name} adlı personel {age} yaşında. Maaşı : {salary}\")\n",
    "\n",
    "person(\"Rabia\", 26, 10000)\n",
    "person(\"Zehra\", 25)"
   ]
  },
  {
   "cell_type": "markdown",
   "metadata": {},
   "source": [
    "def func(*var):"
   ]
  },
  {
   "cell_type": "code",
   "execution_count": 48,
   "metadata": {},
   "outputs": [
    {
     "name": "stdout",
     "output_type": "stream",
     "text": [
      "Toplam:  0\n",
      "Toplam:  19\n",
      "Toplam:  110.6\n"
     ]
    }
   ],
   "source": [
    "def add(*numbers): # birden fazla değer alabilmesi için * ifadesini koyduk\n",
    "    total = 0 \n",
    "    for i in numbers:\n",
    "        total += i\n",
    "    print(\"Toplam: \", total)\n",
    "\n",
    "add() # 0 argument\n",
    "add(1, 4, 6, 8) # 4 arguments\n",
    "add(13.6, 7, 90) # 3 arguments\n"
   ]
  },
  {
   "cell_type": "code",
   "execution_count": 50,
   "metadata": {},
   "outputs": [
    {
     "name": "stdout",
     "output_type": "stream",
     "text": [
      "3 ile 17 değerleri arasındaki çift sayıların ortalaması Ortalama:  10.0\n"
     ]
    }
   ],
   "source": [
    "# kullanıcının girdiği 2 sayı arasındaki  çift sayıları bulup ortalamasını alan bir fonksiyon yazalım\n",
    "def isEven(num):\n",
    "    return num % 2 == 0 \n",
    "\n",
    "start = int(input(\"Başlangıç değeri: \"))\n",
    "end = int(input(\"Bitiş değeri: \"))\n",
    "\n",
    "total = count = 0\n",
    "for item in range(start, end):\n",
    "    if isEven(item):\n",
    "        total += item\n",
    "        count += 1\n",
    "\n",
    "print(f\"{start} ile {end} değerleri arasındaki çift sayıların ortalaması: \", total / count)"
   ]
  }
 ],
 "metadata": {
  "kernelspec": {
   "display_name": "Python 3.10.7 64-bit",
   "language": "python",
   "name": "python3"
  },
  "language_info": {
   "codemirror_mode": {
    "name": "ipython",
    "version": 3
   },
   "file_extension": ".py",
   "mimetype": "text/x-python",
   "name": "python",
   "nbconvert_exporter": "python",
   "pygments_lexer": "ipython3",
   "version": "3.10.7"
  },
  "orig_nbformat": 4,
  "vscode": {
   "interpreter": {
    "hash": "069f238df288ea09d7b18ad4fdd00a6dec393d601f860917fae3606455fbfe67"
   }
  }
 },
 "nbformat": 4,
 "nbformat_minor": 2
}
