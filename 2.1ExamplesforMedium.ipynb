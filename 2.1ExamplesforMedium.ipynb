{
 "cells": [
  {
   "cell_type": "code",
   "execution_count": 2,
   "metadata": {},
   "outputs": [
    {
     "name": "stdout",
     "output_type": "stream",
     "text": [
      "Sum is: 15\n"
     ]
    }
   ],
   "source": [
    "# Write a code block that gives the sum of numbers between 0 and taken numbers from user.\n",
    "\n",
    "number = int(input(\"Please write any number: \"))\n",
    "\n",
    "sum = 0 \n",
    "for i in range(0, number): # we can also write range(number + 1) because default value is zero for start_value   \n",
    "    sum += i\n",
    "print(\"Sum is: {}\".format(sum))\n"
   ]
  },
  {
   "cell_type": "code",
   "execution_count": 9,
   "metadata": {},
   "outputs": [
    {
     "name": "stdout",
     "output_type": "stream",
     "text": [
      "Sum is: 10\n"
     ]
    }
   ],
   "source": [
    "# If the current value, while we are subtracting, can divided by 5, do not add it to the sum\n",
    "\n",
    "number = int(input(\"Please write any number: \"))\n",
    "\n",
    "sum = 0 \n",
    "for i in range(1, number): # we started from 1 because 0 is ineffective element in subtraction anyway   \n",
    "    if i % 5 == 0:\n",
    "        continue\n",
    "    sum += i\n",
    "print(\"Sum is: {}\".format(sum))"
   ]
  },
  {
   "cell_type": "code",
   "execution_count": 16,
   "metadata": {},
   "outputs": [
    {
     "name": "stdout",
     "output_type": "stream",
     "text": [
      "Number has 8 digits.\n"
     ]
    }
   ],
   "source": [
    "# calculate how many digits a number has\n",
    "\n",
    "x = 23897827\n",
    "count = 0\n",
    "\n",
    "while x != 0:\n",
    "    count += 1\n",
    "    x //= 10\n",
    "\n",
    "print(f\"Number has {count} digits.\")\n",
    "\n",
    "    "
   ]
  },
  {
   "cell_type": "code",
   "execution_count": 28,
   "metadata": {},
   "outputs": [
    {
     "name": "stdout",
     "output_type": "stream",
     "text": [
      "3\n",
      "5\n",
      "7\n",
      "11\n",
      "13\n",
      "17\n",
      "19\n",
      "23\n"
     ]
    }
   ],
   "source": [
    "# Find all prime numbers in a given range.\n",
    "\n",
    "start_value = 3\n",
    "end_value = 23\n",
    "\n",
    "for i in range(start_value, end_value + 1): # we can include end value by adding +1.\n",
    "    for j in range(2, i):\n",
    "        if i % j == 0:\n",
    "            break\n",
    "    else:\n",
    "        print(i)\n"
   ]
  },
  {
   "cell_type": "code",
   "execution_count": 39,
   "metadata": {},
   "outputs": [
    {
     "name": "stdout",
     "output_type": "stream",
     "text": [
      "0 1 1 2 3 5 8 13 21 34 "
     ]
    }
   ],
   "source": [
    "# Write the code block that shows fibonacci series.\n",
    "\n",
    "num1 = 0\n",
    "num2 = 1\n",
    "\n",
    "for i in range(10):\n",
    "    print(num1, end = \" \")\n",
    "    total = num1 + num2\n",
    "    num1 = num2\n",
    "    num2 = total"
   ]
  },
  {
   "cell_type": "code",
   "execution_count": 42,
   "metadata": {},
   "outputs": [
    {
     "name": "stdout",
     "output_type": "stream",
     "text": [
      "Entered number is 2389\n",
      "Reverse number is 9832\n"
     ]
    }
   ],
   "source": [
    "# Let's reverse the entered number.\n",
    "\n",
    "number = int(input(\"Write a number: \"))\n",
    "\n",
    "print(f\"Entered number is {number}\")\n",
    "new_number = 0\n",
    "while number > 0:\n",
    "    temp = number % 10 \n",
    "    new_number = new_number * 10 + temp\n",
    "    number //= 10\n",
    "\n",
    "print(f\"Reverse number is {new_number}\")\n"
   ]
  }
 ],
 "metadata": {
  "kernelspec": {
   "display_name": "Python 3.10.7 64-bit",
   "language": "python",
   "name": "python3"
  },
  "language_info": {
   "codemirror_mode": {
    "name": "ipython",
    "version": 3
   },
   "file_extension": ".py",
   "mimetype": "text/x-python",
   "name": "python",
   "nbconvert_exporter": "python",
   "pygments_lexer": "ipython3",
   "version": "3.10.7"
  },
  "orig_nbformat": 4,
  "vscode": {
   "interpreter": {
    "hash": "069f238df288ea09d7b18ad4fdd00a6dec393d601f860917fae3606455fbfe67"
   }
  }
 },
 "nbformat": 4,
 "nbformat_minor": 2
}
