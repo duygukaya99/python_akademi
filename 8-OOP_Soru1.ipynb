{
 "cells": [
  {
   "cell_type": "markdown",
   "metadata": {},
   "source": [
    "**Hayvanat Bahçesi**\n",
    "\n",
    "Hayvanların bilgilerini takip etmek için bir sistem tasarlayalım.\n",
    "* Hayvanlar : # üst class \n",
    "* Atlar(zebralar, atlar, eşekler vb.) # alt class\n",
    "* Kemirgenler(sıçanlar, kunduzlar vb.) # miras alcaz \n",
    "* Kedigiller(kaplanlar, aslanlar vb.)\n",
    "\n",
    "* Hayvanların tür adı, ağırlığı ve yaş bilgileri tutulucak\n",
    "* Sistem yem verme saatlerini seçebilmeli -> getFeedSchedule()\n",
    "* Her hayvan için belirli ilaçların dozajının belirlenmesi -> getDosage() # polymorphism ile farklı dozaj"
   ]
  },
  {
   "cell_type": "code",
   "execution_count": 1,
   "metadata": {},
   "outputs": [],
   "source": [
    "class hayvan: # parantezsiz çünkü en üst sınıfımız, herhangi bir yerden miras almıcaz\n",
    "    def __init__(self, tur_adi, agirlik, yas): # selfi özelliklere erişebilmek için kullanıyoruz, fonksiyonların ilk parametresi self\n",
    "        self.tur_adi = tur_adi\n",
    "        self.agirlik = agirlik\n",
    "        self.yas = yas\n",
    "\n",
    "    def getFeedSchedule(self):\n",
    "        return [10, 20]\n",
    "\n",
    "    def getDosage(self):\n",
    "        return 2"
   ]
  },
  {
   "cell_type": "code",
   "execution_count": 2,
   "metadata": {},
   "outputs": [],
   "source": [
    "class atlar(hayvan): # hayvan classından miras aldık\n",
    "    def __init__(self, tur_adi, agirlik, yas):\n",
    "        super().__init__(tur_adi, agirlik, yas) # üst sınıftaki bu değerleri aynı şekilde al (super)\n",
    "\n",
    "    def getFeedSchedule(self):\n",
    "        return [6, 12, 18]\n",
    "\n",
    "    def getDosage(self):\n",
    "        return 3"
   ]
  },
  {
   "cell_type": "code",
   "execution_count": 3,
   "metadata": {},
   "outputs": [],
   "source": [
    "class kemirgenler(hayvan):\n",
    "    def __init__(self, tur_adi, agirlik, yas):\n",
    "        super().__init__(tur_adi, agirlik, yas) # üst sınıftaki bu değerleri aynı şekilde al (super)\n",
    "\n",
    "    def getFeedSchedule(self):\n",
    "        return [8, 18]\n",
    "\n",
    "    def getDosage(self):\n",
    "        return 1"
   ]
  },
  {
   "cell_type": "code",
   "execution_count": 4,
   "metadata": {},
   "outputs": [],
   "source": [
    "class kedigiller(hayvan):\n",
    "    def __init__(self, tur_adi, agirlik, yas):\n",
    "        super().__init__(tur_adi, agirlik, yas) # üst sınıftaki bu değerleri aynı şekilde al (super)\n",
    "\n",
    "    def getFeedSchedule(self):\n",
    "        return [6, 13, 20]\n",
    "\n",
    "    def getDosage(self):\n",
    "        return 2"
   ]
  },
  {
   "cell_type": "code",
   "execution_count": 5,
   "metadata": {},
   "outputs": [],
   "source": [
    "at = atlar(\"At\", 150, 3)\n",
    "aslan = kedigiller(\"Aslan\", 90, 1)\n",
    "kemirgen = kemirgenler(\"Kemirgen\", 2, 1)"
   ]
  },
  {
   "cell_type": "code",
   "execution_count": 12,
   "metadata": {},
   "outputs": [
    {
     "name": "stdout",
     "output_type": "stream",
     "text": [
      "Atlar için: \n",
      "İlaç Dozu: 3\n",
      "Yem saatleri: [6, 12, 18]\n",
      "Kedigiller için: \n",
      "İlaç Dozu: 2\n",
      "Yem saatleri: [10, 22]\n",
      "Kemirgenler için: \n",
      "İlaç Dozu: 1\n",
      "Yem saatleri: [8, 18]\n"
     ]
    }
   ],
   "source": [
    "print(f\"Atlar için: \\nİlaç Dozu: {at.getDosage()}\\nYem saatleri: {at.getFeedSchedule()}\")\n",
    "print(f\"Kedigiller için: \\nİlaç Dozu: {aslan.getDosage()}\\nYem saatleri: {aslan.getFeedSchedule()}\")\n",
    "print(f\"Kemirgenler için: \\nİlaç Dozu: {kemirgen.getDosage()}\\nYem saatleri: {kemirgen.getFeedSchedule()}\") \n",
    "# parantez koymayı unutma"
   ]
  }
 ],
 "metadata": {
  "kernelspec": {
   "display_name": "Python 3.10.7 64-bit",
   "language": "python",
   "name": "python3"
  },
  "language_info": {
   "codemirror_mode": {
    "name": "ipython",
    "version": 3
   },
   "file_extension": ".py",
   "mimetype": "text/x-python",
   "name": "python",
   "nbconvert_exporter": "python",
   "pygments_lexer": "ipython3",
   "version": "3.10.7"
  },
  "orig_nbformat": 4,
  "vscode": {
   "interpreter": {
    "hash": "069f238df288ea09d7b18ad4fdd00a6dec393d601f860917fae3606455fbfe67"
   }
  }
 },
 "nbformat": 4,
 "nbformat_minor": 2
}
