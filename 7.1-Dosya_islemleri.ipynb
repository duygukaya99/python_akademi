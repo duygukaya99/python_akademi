{
 "cells": [
  {
   "cell_type": "markdown",
   "metadata": {},
   "source": [
    "**Dosyalama İşlemleri**\n",
    "\n",
    "* Dosyayı açma\n",
    "* Dosyadan veri okuma\n",
    "* Dosyaya yazma\n",
    "* Dosya kapatma"
   ]
  },
  {
   "cell_type": "markdown",
   "metadata": {},
   "source": [
    "open(\"dosya_yolu\", \"erisim_modu\")"
   ]
  },
  {
   "cell_type": "markdown",
   "metadata": {},
   "source": [
    "* w -> Dosyayı yazma amacıyla açar. Bir dosya zaten varsa dosyanın üzerine yazar.\n",
    "Dosyanın içeriğinin silinmesini istemiyorsanız write modunda açmayın dikkat. Çünkü içindeki dosyayı silip yeniden yazar.\n",
    "* a -> Ekleme modunda dosyayı açar. Dosyanın sonuna yeni satırları ekler. \n",
    "Yani içindekileri silmez, üstüne ekleme yapar.\n"
   ]
  },
  {
   "cell_type": "code",
   "execution_count": null,
   "metadata": {},
   "outputs": [],
   "source": [
    "f = open(\"names.txt\", \"w\", encoding = \"utf-8\") # yoksa yeni açıyor, varsa üzerine yazıyor\n",
    "f.write(\"Büşranur\")\n",
    "f.write(\"Müzeyyen\")\n",
    "f.write(\"Duygu\")\n",
    "f.write(\"İrem\")\n",
    "f.write(\"Ayşe Nur\")\n",
    "f.close()"
   ]
  },
  {
   "cell_type": "code",
   "execution_count": null,
   "metadata": {},
   "outputs": [],
   "source": [
    "f = open(\"names.txt\", \"a\", encoding = \"utf-8\")\n",
    "f.write(\"Bilge\")\n",
    "f.close()"
   ]
  },
  {
   "cell_type": "code",
   "execution_count": null,
   "metadata": {},
   "outputs": [],
   "source": [
    "my_list = [\"Hatice\", \"Edanur\", \"Nihan\", \"Zeynep\", \"Menekşe\"]\n",
    "f = open(\"names2.txt\", \"w\", encoding = \"utf-8\")\n",
    "for name in my_list:\n",
    "    f.write(name + \"\\n\")\n",
    "f.close()"
   ]
  },
  {
   "cell_type": "code",
   "execution_count": 1,
   "metadata": {},
   "outputs": [
    {
     "name": "stdout",
     "output_type": "stream",
     "text": [
      "['.git', '1-PythonGiris.ipynb', '2-Donguler_kontrolyapilari.ipynb', '2.1ExamplesforMedium.ipynb', '23-10-2022-10-26-10.txt', '23-10-2022-11-08-14.txt', '23-10-2022.txt', '4-Fonksiyonlar.ipynb', '4-Moduller.ipynb', '5-VeriYapilari_List.ipynb', '5.1-Lambda_filter_map.ipynb', '5.2-Tuple.ipynb', '6-VeriYapilari_Set.ipynb', '6.1-VeriYapilari_Dictionary.ipynb', '7-Dosya_Odev.ipynb', '7-Dosya_Ornegi', '7-Exceptions.ipynb', '7-VeriYapiları_Odev.ipynb', '7.1-Dosya_islemleri.ipynb', '8-OOP.ipynb', '8-OOP_Quiz', '8-OOP_Soru1.ipynb', 'file_name.txt', 'greetings.txt', 'names.txt', 'README.md', 'sonrasilincek.ipynb', 'surname.txt']\n"
     ]
    }
   ],
   "source": [
    "import os # operating system\n",
    "\n",
    "print(os.listdir())"
   ]
  },
  {
   "cell_type": "code",
   "execution_count": 2,
   "metadata": {},
   "outputs": [
    {
     "name": "stdout",
     "output_type": "stream",
     "text": [
      "False\n"
     ]
    }
   ],
   "source": [
    "# dosyanın içerisinde ilgili şeyimiz var mı yok mu kontrol\n",
    "print(os.path.isfile(\"names2.txt\"))"
   ]
  },
  {
   "cell_type": "code",
   "execution_count": 3,
   "metadata": {},
   "outputs": [
    {
     "name": "stdout",
     "output_type": "stream",
     "text": [
      "False\n"
     ]
    }
   ],
   "source": [
    "print(os.path.isfile(\"surnames.txt\")) # sadece ilgili dizine bakıyor, o dizinde var mı yok mu"
   ]
  },
  {
   "cell_type": "markdown",
   "metadata": {},
   "source": [
    "Farklı bir dizinde dosya kontrolü"
   ]
  },
  {
   "cell_type": "code",
   "execution_count": null,
   "metadata": {},
   "outputs": [],
   "source": [
    "f = open(r'C:\\Users\\duygu\\OneDrive\\Belgeler\\python_dosya_islemleri.txt', \"w\")\n",
    "my_list = [\"Hatice\", \"Edanur\", \"Nihan\", \"Zeynep\", \"Menekşe\"]\n",
    "\n",
    "for i in my_list:\n",
    "    f.write(i + \"\\n\")\n",
    "\n",
    "f.close()"
   ]
  },
  {
   "cell_type": "code",
   "execution_count": null,
   "metadata": {},
   "outputs": [],
   "source": [
    "f = open(r'C:\\Users\\duygu\\OneDrive\\Belgeler\\word_dosya_islemleri.docx', \"w\")\n",
    "my_list = [\"Hatice\", \"Edanur\", \"Nihan\", \"Zeynep\", \"Menekşe\"]\n",
    "\n",
    "for i in my_list:\n",
    "    f.write(i + \"\\n\")\n",
    "\n",
    "f.close()"
   ]
  },
  {
   "cell_type": "code",
   "execution_count": 4,
   "metadata": {},
   "outputs": [],
   "source": [
    "with open(\"greetings.txt\", \"w\") as f: # açılan dosyayı işlemleri tamamladıktan sonra otomatik kapatıyor \n",
    "# f.close yazmana gerek kalmıyor\n",
    "    f.write(\"Hellooo\")"
   ]
  },
  {
   "cell_type": "code",
   "execution_count": null,
   "metadata": {},
   "outputs": [],
   "source": [
    "with open(\"7-Dosya_Ornegi/names2.txt\", \"w\") as f:\n",
    "    f.write(\"Müzeyyen\")"
   ]
  },
  {
   "cell_type": "code",
   "execution_count": null,
   "metadata": {},
   "outputs": [],
   "source": [
    "# Belirli aralıklarla çalışan bir kodun, her seferinde o anın tarih ve saat \n",
    "# bilgilerini alarak bir dosya oluşturduğunu varsayalım.\n",
    "\n",
    "from datetime import datetime\n",
    "\n",
    "time = datetime.now()\n",
    "print(\"Now: \", time)\n",
    "\n",
    "# gün ay yıl \n",
    "print(\"Gün ay yıl: \", time.strftime(\"%d-%m-%Y\"))\n",
    "file_name = time.strftime(\"%d-%m-%Y.txt\") # time'ı istediğimiz formata çevirmek için -> datetime format\n",
    "with open(file_name, \"w\", encoding = \"utf-8\") as f:\n",
    "    f.write(\"gün ay yıl \" + file_name)\n",
    "\n",
    "# gün ay yıl saat dakika\n",
    "print(time.strftime(\"%d-%m-%Y %H:%M:%S\"))\n",
    "file_name2 = time.strftime(\"%d-%m-%Y-%H-%M-%S.txt\")\n",
    "with open(file_name2, \"w\") as f:\n",
    "    f.write(\"gün ay yıl saat \" + time.strftime(\"%d-%m-%Y %H:%M:%S\"))\n",
    "\n",
    "# farklı dizinde dosyayı oluşturma\n",
    "file_name3 = time.strftime(\"%d-%m-%Y-%H-%M-%S.txt\")\n",
    "with open(\"7-Dosya_Ornegi/\" + file_name3, \"w\") as f:\n",
    "    f.write(\"Farklı dizinde gün ay yıl saat \" + time.strftime(\"%d-%m-%Y %H:%M:%S\"))"
   ]
  },
  {
   "cell_type": "markdown",
   "metadata": {},
   "source": [
    "Dosya okuma"
   ]
  },
  {
   "cell_type": "code",
   "execution_count": 5,
   "metadata": {},
   "outputs": [
    {
     "ename": "FileNotFoundError",
     "evalue": "[Errno 2] No such file or directory: 'names2.txt'",
     "output_type": "error",
     "traceback": [
      "\u001b[1;31m---------------------------------------------------------------------------\u001b[0m",
      "\u001b[1;31mFileNotFoundError\u001b[0m                         Traceback (most recent call last)",
      "Cell \u001b[1;32mIn [5], line 1\u001b[0m\n\u001b[1;32m----> 1\u001b[0m \u001b[39mwith\u001b[39;00m \u001b[39mopen\u001b[39;49m(\u001b[39m\"\u001b[39;49m\u001b[39mnames2.txt\u001b[39;49m\u001b[39m\"\u001b[39;49m, \u001b[39m\"\u001b[39;49m\u001b[39mr\u001b[39;49m\u001b[39m\"\u001b[39;49m) \u001b[39mas\u001b[39;00m f:\n\u001b[0;32m      2\u001b[0m     \u001b[39mprint\u001b[39m(f\u001b[39m.\u001b[39mread())\n",
      "\u001b[1;31mFileNotFoundError\u001b[0m: [Errno 2] No such file or directory: 'names2.txt'"
     ]
    }
   ],
   "source": [
    "with open(\"names2.txt\", \"r\") as f:\n",
    "    print(f.read())"
   ]
  },
  {
   "cell_type": "code",
   "execution_count": 65,
   "metadata": {},
   "outputs": [],
   "source": [
    "# var olmayan bir dosyayı okumaya çalıştığımızda hata alırız\n",
    "with open(\"surname.txt\", \"r\", encoding = \"utf-8\") as f: # ya ilgili dizini değiştir ya da böyle bir dosya yok\n",
    "    f.read()"
   ]
  },
  {
   "cell_type": "code",
   "execution_count": 67,
   "metadata": {},
   "outputs": [
    {
     "name": "stdout",
     "output_type": "stream",
     "text": [
      "Şule\n",
      "\n"
     ]
    }
   ],
   "source": [
    "# okuma işlemi öncesi dosya kontrolü\n",
    "import os\n",
    "\n",
    "def read_file():\n",
    "    with open(\"surname.txt\", \"r\", encoding = \"utf-8\") as f: \n",
    "        print(f.read())\n",
    "\n",
    "if os.path.exists(\"surname.txt\"):\n",
    "    read_file()\n",
    "else: \n",
    "    print(\"Dosya belirtilen dizinde bulunamadı\")\n",
    "    my_list = [\"Hatice\", \"Edanur\", \"Nihan\", \"Zeynep\", \"Menekşe\"]\n",
    "    with open(\"surname.txt\", \"w\", encoding = \"utf-8\") as f:\n",
    "          for name in my_list:\n",
    "               f.write(name + \"\\n\")\n",
    "    read_file()"
   ]
  },
  {
   "cell_type": "markdown",
   "metadata": {},
   "source": [
    "Dosya Okuma Yöntemleri\n",
    "\n",
    "readline() # satır satır okuma işlemi, \\n ' e bakıyor ve bir alt satıra geçiyor"
   ]
  },
  {
   "cell_type": "code",
   "execution_count": 6,
   "metadata": {},
   "outputs": [
    {
     "name": "stdout",
     "output_type": "stream",
     "text": [
      "Şule\n"
     ]
    }
   ],
   "source": [
    "with open(\"surname.txt\", \"r\", encoding = \"utf-8\") as f: \n",
    "    lines = f.readlines()\n",
    "    for i in lines:\n",
    "    # while lines != \"\":\n",
    "        print(i)"
   ]
  },
  {
   "cell_type": "code",
   "execution_count": 7,
   "metadata": {},
   "outputs": [
    {
     "ename": "UnsupportedOperation",
     "evalue": "not writable",
     "output_type": "error",
     "traceback": [
      "\u001b[1;31m---------------------------------------------------------------------------\u001b[0m",
      "\u001b[1;31mUnsupportedOperation\u001b[0m                      Traceback (most recent call last)",
      "Cell \u001b[1;32mIn [7], line 3\u001b[0m\n\u001b[0;32m      1\u001b[0m \u001b[39m# okuma modunda açıldığı için yazma, yeni bir şey ekleme işlemi yapamayız\u001b[39;00m\n\u001b[0;32m      2\u001b[0m \u001b[39mwith\u001b[39;00m \u001b[39mopen\u001b[39m(\u001b[39m\"\u001b[39m\u001b[39msurname.txt\u001b[39m\u001b[39m\"\u001b[39m, \u001b[39m\"\u001b[39m\u001b[39mr\u001b[39m\u001b[39m\"\u001b[39m) \u001b[39mas\u001b[39;00m f:\n\u001b[1;32m----> 3\u001b[0m     \u001b[39mprint\u001b[39m(f\u001b[39m.\u001b[39;49mwrite(\u001b[39m\"\u001b[39;49m\u001b[39msule\u001b[39;49m\u001b[39m\"\u001b[39;49m))\n",
      "\u001b[1;31mUnsupportedOperation\u001b[0m: not writable"
     ]
    }
   ],
   "source": [
    "# okuma modunda açıldığı için yazma, yeni bir şey ekleme işlemi yapamayız\n",
    "with open(\"surname.txt\", \"r\") as f:\n",
    "    print(f.write(\"sule\"))"
   ]
  },
  {
   "cell_type": "code",
   "execution_count": null,
   "metadata": {},
   "outputs": [],
   "source": [
    "# ctrl + shift + l ile tüm aynı isimdekileri seçip düzenleyebilirsin."
   ]
  },
  {
   "cell_type": "code",
   "execution_count": 8,
   "metadata": {},
   "outputs": [
    {
     "name": "stdout",
     "output_type": "stream",
     "text": [
      "\n"
     ]
    }
   ],
   "source": [
    "with open(\"surname.txt\", \"r+\", encoding = \"utf-8\") as f:\n",
    "    f.write(\"Şule\\n\")\n",
    "    print(f.read())\n",
    "# r+ yaptığımızda hem okuma hem yazma yapabiliyoruz"
   ]
  },
  {
   "cell_type": "code",
   "execution_count": 64,
   "metadata": {},
   "outputs": [
    {
     "name": "stdout",
     "output_type": "stream",
     "text": [
      "Şule\n",
      "\n"
     ]
    }
   ],
   "source": [
    "with open(\"surname.txt\", \"r\", encoding = \"utf-8\") as f:\n",
    "    lines = f.readlines()\n",
    "    for i in lines: # for i in reversed(lines):\n",
    "        print(i)"
   ]
  },
  {
   "cell_type": "markdown",
   "metadata": {},
   "source": [
    "Dosya yazma\n",
    "\n",
    "* w\n",
    "* w+ içeriğin siliyor ondan sonra yazmaya başlıyor, içeriği ezer ama r+ önce okur sonra yazmaya başlarsınız\n",
    "* a mevcut dosyanın içeriğini silmez, dosyaya ekleme yapar\n",
    "* a+ w+ dan farkı mevcut dosya varsa içeriğini silmiyor\n",
    "r+ okuma modunda açıyor a+ yazma modunda açıyor yoksa oluşturuyor"
   ]
  },
  {
   "cell_type": "markdown",
   "metadata": {},
   "source": [
    "**Dosya yazma yöntemleri**\n",
    "\n",
    "* write()\n",
    "* writelines() append ve extend gibi biri bir eleman diğeri birden fazla"
   ]
  },
  {
   "cell_type": "code",
   "execution_count": 53,
   "metadata": {},
   "outputs": [],
   "source": [
    "with open(\"names.txt\", \"w\", encoding = \"utf-8\") as f:\n",
    "    f.write(\"Merve\")"
   ]
  },
  {
   "cell_type": "code",
   "execution_count": 54,
   "metadata": {},
   "outputs": [],
   "source": [
    "with open(\"names.txt\", \"w\", encoding = \"utf-8\" ) as f:\n",
    "    f.writelines([\"Başak\", \"\\nDilara\", \"\\nÇevik\"])"
   ]
  },
  {
   "cell_type": "markdown",
   "metadata": {},
   "source": [
    "**Dosya Arama**\n",
    "\n",
    "file.seek(imleç_konumu) -> imlecin nereden başlanacağı bilgisi\n",
    "\n",
    "* file.seek(8) # 8 karakter ileri taşı ve ona göre işlem yap\n",
    "* file.seek(0, 2) # reverse etmiş gibi sondan okuyarak ilerleticek\n",
    "* file.seek(4, 1) # geçerli konumunu koru 1'den dolayı sonra olduğun yerden 4 adım ileri git\n",
    "* file.seek(-4, 1) # mevcut konumunu koru ve 4 adım geri git\n",
    "* file.seek(-4, 2) # sona götür, sondan 4 karakter geriye git.\n",
    "\n",
    "-> 1 mevcut konum nerdeyse, 0, dosyanın başlangıcı, 2 dosyanın sonu"
   ]
  },
  {
   "cell_type": "code",
   "execution_count": 73,
   "metadata": {},
   "outputs": [
    {
     "name": "stdout",
     "output_type": "stream",
     "text": [
      "ule\n",
      "\n"
     ]
    }
   ],
   "source": [
    "with open(\"surname.txt\", \"r\", encoding = \"utf-8\") as f:\n",
    "    f.seek(2)\n",
    "    print(f.read())"
   ]
  },
  {
   "cell_type": "code",
   "execution_count": 79,
   "metadata": {},
   "outputs": [
    {
     "name": "stdout",
     "output_type": "stream",
     "text": [
      "le\n",
      "\n"
     ]
    }
   ],
   "source": [
    "with open(\"surname.txt\", \"rb\") as f:\n",
    "    f.seek(3, 1)\n",
    "    print(f.read().decode(\"utf-8\"))"
   ]
  },
  {
   "cell_type": "code",
   "execution_count": 83,
   "metadata": {},
   "outputs": [
    {
     "name": "stdout",
     "output_type": "stream",
     "text": [
      "Şule\n"
     ]
    }
   ],
   "source": [
    "with open(\"surname.txt\", \"rb\") as f:\n",
    "    f.seek(-5, 2)\n",
    "    print(f.read().decode(\"utf-8\"))\n",
    "    "
   ]
  },
  {
   "cell_type": "markdown",
   "metadata": {},
   "source": [
    "**Dosya yeniden adlandırma**"
   ]
  },
  {
   "cell_type": "code",
   "execution_count": 80,
   "metadata": {},
   "outputs": [],
   "source": [
    "import os\n",
    "\n",
    "os.rename(\"names2.txt\", \"name_list.txt\")\n",
    "# var olmayan bir dosyanın ismini değiştirmek istediğimizde hata alırız."
   ]
  },
  {
   "cell_type": "markdown",
   "metadata": {},
   "source": [
    "**Dosya silme**"
   ]
  },
  {
   "cell_type": "code",
   "execution_count": 81,
   "metadata": {},
   "outputs": [],
   "source": [
    "import os \n",
    "\n",
    "os.remove(\"name_list.txt\")\n",
    "# tekrar çalıştırmayı denersem var olmayan dosyayı silmeye çalıştınız şeklinde hata vericek"
   ]
  }
 ],
 "metadata": {
  "kernelspec": {
   "display_name": "Python 3.10.7 64-bit",
   "language": "python",
   "name": "python3"
  },
  "language_info": {
   "codemirror_mode": {
    "name": "ipython",
    "version": 3
   },
   "file_extension": ".py",
   "mimetype": "text/x-python",
   "name": "python",
   "nbconvert_exporter": "python",
   "pygments_lexer": "ipython3",
   "version": "3.10.7"
  },
  "orig_nbformat": 4,
  "vscode": {
   "interpreter": {
    "hash": "069f238df288ea09d7b18ad4fdd00a6dec393d601f860917fae3606455fbfe67"
   }
  }
 },
 "nbformat": 4,
 "nbformat_minor": 2
}
