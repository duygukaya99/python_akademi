{
 "cells": [
  {
   "cell_type": "markdown",
   "metadata": {},
   "source": [
    "**Dosyalama İşlemleri**\n",
    "\n",
    "* Dosyayı açma\n",
    "* Dosyadan veri okuma\n",
    "* Dosyaya yazma\n",
    "* Dosya kapatma"
   ]
  },
  {
   "cell_type": "markdown",
   "metadata": {},
   "source": [
    "open(\"dosya_yolu\", \"erisim_modu\")"
   ]
  },
  {
   "cell_type": "markdown",
   "metadata": {},
   "source": [
    "* w -> Dosyayı yazma amacıyla açar. Bir dosya zaten varsa dosyanın üzerine yazar.\n",
    "Dosyanın içeriğinin silinmesini istemiyorsanız write modunda açmayın dikkat. Çünkü içindeki dosyayı silip yeniden yazar.\n",
    "* a -> Ekleme modunda dosyayı açar. Dosyanın sonuna yeni satırları ekler. \n",
    "Yani içindekileri silmez, üstüne ekleme yapar.\n"
   ]
  },
  {
   "cell_type": "code",
   "execution_count": 3,
   "metadata": {},
   "outputs": [],
   "source": [
    "f = open(\"names.txt\", \"w\", encoding = \"utf-8\") # yoksa yeni açıyor, varsa üzerine yazıyor\n",
    "f.write(\"Büşranur\")\n",
    "f.write(\"Müzeyyen\")\n",
    "f.write(\"Duygu\")\n",
    "f.write(\"İrem\")\n",
    "f.write(\"Ayşe Nur\")\n",
    "f.close()"
   ]
  },
  {
   "cell_type": "code",
   "execution_count": null,
   "metadata": {},
   "outputs": [],
   "source": [
    "f = open(\"names.txt\", \"a\", encoding = \"utf-8\")\n",
    "f.write(\"Bilge\")\n",
    "f.close()"
   ]
  },
  {
   "cell_type": "code",
   "execution_count": 30,
   "metadata": {},
   "outputs": [],
   "source": [
    "my_list = [\"Hatice\", \"Edanur\", \"Nihan\", \"Zeynep\", \"Menekşe\"]\n",
    "f = open(\"names2.txt\", \"w\", encoding = \"utf-8\")\n",
    "for name in my_list:\n",
    "    f.write(name + \"\\n\")\n",
    "f.close()"
   ]
  },
  {
   "cell_type": "code",
   "execution_count": 10,
   "metadata": {},
   "outputs": [
    {
     "name": "stdout",
     "output_type": "stream",
     "text": [
      "['.git', '1-PythonGiris.ipynb', '2-Donguler_kontrolyapilari.ipynb', '2.1ExamplesforMedium.ipynb', '4-Fonksiyonlar.ipynb', '4-Moduller.ipynb', '5-VeriYapilari_List.ipynb', '5.1-Lambda_filter_map.ipynb', '5.2-Tuple.ipynb', '6-VeriYapilari_Set.ipynb', '6.1-VeriYapilari_Dictionary.ipynb', '7-Exceptions.ipynb', '7-VeriYapiları_Odev.ipynb', '7.1-Dosya_islemleri.ipynb', 'names.txt', 'names2.txt', 'README.md', 'sonrasilincek.ipynb']\n"
     ]
    }
   ],
   "source": [
    "import os # operating system\n",
    "\n",
    "print(os.listdir())"
   ]
  },
  {
   "cell_type": "code",
   "execution_count": 11,
   "metadata": {},
   "outputs": [
    {
     "name": "stdout",
     "output_type": "stream",
     "text": [
      "True\n"
     ]
    }
   ],
   "source": [
    "# dosyanın içerisinde ilgili şeyimiz var mı yok mu kontrol\n",
    "print(os.path.isfile(\"names2.txt\"))"
   ]
  },
  {
   "cell_type": "code",
   "execution_count": 12,
   "metadata": {},
   "outputs": [
    {
     "name": "stdout",
     "output_type": "stream",
     "text": [
      "False\n"
     ]
    }
   ],
   "source": [
    "print(os.path.isfile(\"surnames.txt\")) # sadece ilgili dizine bakıyor, o dizinde var mı yok mu"
   ]
  },
  {
   "cell_type": "markdown",
   "metadata": {},
   "source": [
    "Farklı bir dizinde dosya kontrolü"
   ]
  },
  {
   "cell_type": "code",
   "execution_count": 24,
   "metadata": {},
   "outputs": [],
   "source": [
    "f = open(r'C:\\Users\\duygu\\OneDrive\\Belgeler\\python_dosya_islemleri.txt', \"w\")\n",
    "my_list = [\"Hatice\", \"Edanur\", \"Nihan\", \"Zeynep\", \"Menekşe\"]\n",
    "\n",
    "for i in my_list:\n",
    "    f.write(i + \"\\n\")\n",
    "\n",
    "f.close()"
   ]
  },
  {
   "cell_type": "code",
   "execution_count": 29,
   "metadata": {},
   "outputs": [],
   "source": [
    "f = open(r'C:\\Users\\duygu\\OneDrive\\Belgeler\\word_dosya_islemleri.docx', \"w\")\n",
    "my_list = [\"Hatice\", \"Edanur\", \"Nihan\", \"Zeynep\", \"Menekşe\"]\n",
    "\n",
    "for i in my_list:\n",
    "    f.write(i + \"\\n\")\n",
    "\n",
    "f.close()"
   ]
  },
  {
   "cell_type": "code",
   "execution_count": 26,
   "metadata": {},
   "outputs": [],
   "source": [
    "with open(\"greetings.txt\", \"w\") as f: # açılan dosyayı işlemleri tamamladıktan sonra otomatik kapatıyor \n",
    "# f.close yazmana gerek kalmıyor\n",
    "    f.write(\"Hellooo\")"
   ]
  },
  {
   "cell_type": "code",
   "execution_count": 27,
   "metadata": {},
   "outputs": [],
   "source": [
    "with open(\"7-Dosya_Ornegi/names2.txt\", \"w\") as f:\n",
    "    f.write(\"Müzeyyen\")"
   ]
  },
  {
   "cell_type": "markdown",
   "metadata": {},
   "source": [
    "Dosya okuma"
   ]
  },
  {
   "cell_type": "code",
   "execution_count": 31,
   "metadata": {},
   "outputs": [
    {
     "name": "stdout",
     "output_type": "stream",
     "text": [
      "Hatice\n",
      "Edanur\n",
      "Nihan\n",
      "Zeynep\n",
      "MenekÅŸe\n",
      "\n"
     ]
    }
   ],
   "source": [
    "with open(\"names2.txt\", \"r\") as f:\n",
    "    print(f.read())"
   ]
  },
  {
   "cell_type": "code",
   "execution_count": 32,
   "metadata": {},
   "outputs": [
    {
     "ename": "FileNotFoundError",
     "evalue": "[Errno 2] No such file or directory: 'surname.txt'",
     "output_type": "error",
     "traceback": [
      "\u001b[1;31m---------------------------------------------------------------------------\u001b[0m",
      "\u001b[1;31mFileNotFoundError\u001b[0m                         Traceback (most recent call last)",
      "Cell \u001b[1;32mIn [32], line 1\u001b[0m\n\u001b[1;32m----> 1\u001b[0m \u001b[39mwith\u001b[39;00m \u001b[39mopen\u001b[39;49m(\u001b[39m\"\u001b[39;49m\u001b[39msurname.txt\u001b[39;49m\u001b[39m\"\u001b[39;49m, \u001b[39m\"\u001b[39;49m\u001b[39mr\u001b[39;49m\u001b[39m\"\u001b[39;49m) \u001b[39mas\u001b[39;00m f:\n\u001b[0;32m      2\u001b[0m     \u001b[39mprint\u001b[39m(f\u001b[39m.\u001b[39mread())\n",
      "\u001b[1;31mFileNotFoundError\u001b[0m: [Errno 2] No such file or directory: 'surname.txt'"
     ]
    }
   ],
   "source": [
    "# var olmayan bir dosyayı okumaya çalıştığımızda hata alırız\n",
    "with open(\"surname.txt\", \"r\") as f: # ya ilgili dizini değiştir ya da böyle bir dosya yok\n",
    "    print(f.read())"
   ]
  },
  {
   "cell_type": "code",
   "execution_count": 37,
   "metadata": {},
   "outputs": [
    {
     "name": "stdout",
     "output_type": "stream",
     "text": [
      "Dosya belirtilen dizinde bulunamadı\n",
      "Hatice\n",
      "Edanur\n",
      "Nihan\n",
      "Zeynep\n",
      "MenekÅŸe\n",
      "\n"
     ]
    }
   ],
   "source": [
    "# okuma işlemi öncesi dosya kontrolü\n",
    "import os\n",
    "\n",
    "def read_file():\n",
    "    with open(\"surname.txt\", \"r\") as f: \n",
    "        print(f.read())\n",
    "\n",
    "if os.path.exists(\"surname.txt\"):\n",
    "    read_file()\n",
    "else: \n",
    "    print(\"Dosya belirtilen dizinde bulunamadı\")\n",
    "    my_list = [\"Hatice\", \"Edanur\", \"Nihan\", \"Zeynep\", \"Menekşe\"]\n",
    "    with open(\"surname.txt\", \"w\", encoding = \"utf-8\") as f:\n",
    "          for name in my_list:\n",
    "               f.write(name + \"\\n\")\n",
    "    read_file()"
   ]
  },
  {
   "cell_type": "markdown",
   "metadata": {},
   "source": [
    "Dosya Okuma Yöntemleri\n",
    "\n",
    "readline() # satır satır okuma işlemi, \\n ' e bakıyor ve bir alt satıra geçiyor"
   ]
  },
  {
   "cell_type": "code",
   "execution_count": 45,
   "metadata": {},
   "outputs": [
    {
     "name": "stdout",
     "output_type": "stream",
     "text": [
      "Hatice\n",
      "\n",
      "Edanur\n",
      "\n",
      "Nihan\n",
      "\n",
      "Zeynep\n",
      "\n",
      "Menekşe\n",
      "\n"
     ]
    }
   ],
   "source": [
    "with open(\"surname.txt\", \"r\", encoding = \"utf-8\") as f: \n",
    "    lines = f.readlines()\n",
    "    for i in lines:\n",
    "    # while lines != \"\":\n",
    "        print(i)"
   ]
  },
  {
   "cell_type": "code",
   "execution_count": 42,
   "metadata": {},
   "outputs": [
    {
     "ename": "UnsupportedOperation",
     "evalue": "not writable",
     "output_type": "error",
     "traceback": [
      "\u001b[1;31m---------------------------------------------------------------------------\u001b[0m",
      "\u001b[1;31mUnsupportedOperation\u001b[0m                      Traceback (most recent call last)",
      "Cell \u001b[1;32mIn [42], line 2\u001b[0m\n\u001b[0;32m      1\u001b[0m \u001b[39mwith\u001b[39;00m \u001b[39mopen\u001b[39m(\u001b[39m\"\u001b[39m\u001b[39msurname.txt\u001b[39m\u001b[39m\"\u001b[39m, \u001b[39m\"\u001b[39m\u001b[39mr\u001b[39m\u001b[39m\"\u001b[39m) \u001b[39mas\u001b[39;00m f:\n\u001b[1;32m----> 2\u001b[0m     \u001b[39mprint\u001b[39m(f\u001b[39m.\u001b[39;49mwrite(\u001b[39m\"\u001b[39;49m\u001b[39msule\u001b[39;49m\u001b[39m\"\u001b[39;49m))\n",
      "\u001b[1;31mUnsupportedOperation\u001b[0m: not writable"
     ]
    }
   ],
   "source": [
    "# okuma modunda açıldığı için yazma, yeni bir şey ekleme işlemi yapamayız\n",
    "with open(\"surname.txt\", \"r\") as f:\n",
    "    print(f.write(\"sule\"))"
   ]
  }
 ],
 "metadata": {
  "kernelspec": {
   "display_name": "Python 3.10.7 64-bit",
   "language": "python",
   "name": "python3"
  },
  "language_info": {
   "codemirror_mode": {
    "name": "ipython",
    "version": 3
   },
   "file_extension": ".py",
   "mimetype": "text/x-python",
   "name": "python",
   "nbconvert_exporter": "python",
   "pygments_lexer": "ipython3",
   "version": "3.10.7"
  },
  "orig_nbformat": 4,
  "vscode": {
   "interpreter": {
    "hash": "069f238df288ea09d7b18ad4fdd00a6dec393d601f860917fae3606455fbfe67"
   }
  }
 },
 "nbformat": 4,
 "nbformat_minor": 2
}
