{
 "cells": [
  {
   "cell_type": "markdown",
   "metadata": {},
   "source": [
    "**Veri Yapıları**\n",
    "\n",
    "* List\n",
    "* Tuple\n",
    "* Set\n",
    "* Dictionary"
   ]
  },
  {
   "cell_type": "markdown",
   "metadata": {},
   "source": [
    "**Listeler**\n",
    "\n",
    "* index ile erişilebilir, ordered yani sıralıdır.\n",
    "* mutable (değiştirilebilir) yani liste içine eklenen bir veri değiştirilebilir # bu çok kullanılır.\n",
    "* listeler [] ile tanımlanır. Liste içindeki elemanlar da virgüller ile ayrılır.\n",
    "* farklı tipte veri içerebilir.\n",
    "* aynı değerlere sahip iki elemana sahip olabilir. Duplicate veri barındırabilir.\n",
    " "
   ]
  },
  {
   "cell_type": "code",
   "execution_count": 1,
   "metadata": {},
   "outputs": [],
   "source": [
    "list_int = [1, 6, 8 , 4, -1, 1]\n",
    "list_string = [\"Zeynep\", \"Duru\", \"Kaya\"]\n",
    "list_boolean = [True, False]\n",
    "list_float = [1.2, 4.6, 13.7]\n",
    "\n",
    "list_mix = [\"Kardelen\", 23, 20000, True, 13.4]"
   ]
  },
  {
   "cell_type": "markdown",
   "metadata": {},
   "source": []
  },
  {
   "cell_type": "code",
   "execution_count": 4,
   "metadata": {},
   "outputs": [
    {
     "name": "stdout",
     "output_type": "stream",
     "text": [
      "['Kardelen', 23, 20000, True, 13.4]\n",
      "0.index değeri:  Kardelen\n",
      "1.index değeri:  23\n",
      "2.index değeri:  20000\n",
      "-1.index değeri:  13.4\n",
      "-2.index değeri:  True\n",
      "-3.index değeri:  20000\n"
     ]
    }
   ],
   "source": [
    "print(list_mix)\n",
    "\n",
    "# pozitif indexler ile erişim\n",
    "print(\"0.index değeri: \", list_mix[0])\n",
    "print(\"1.index değeri: \", list_mix[1])\n",
    "print(\"2.index değeri: \", list_mix[2])\n",
    "\n",
    "# negatif indexler ile erişim\n",
    "print(\"-1.index değeri: \", list_mix[-1])\n",
    "print(\"-2.index değeri: \", list_mix[-2])\n",
    "print(\"-3.index değeri: \", list_mix[-3])"
   ]
  },
  {
   "cell_type": "code",
   "execution_count": 6,
   "metadata": {},
   "outputs": [
    {
     "ename": "TypeError",
     "evalue": "list indices must be integers or slices, not float",
     "output_type": "error",
     "traceback": [
      "\u001b[1;31m---------------------------------------------------------------------------\u001b[0m",
      "\u001b[1;31mTypeError\u001b[0m                                 Traceback (most recent call last)",
      "Cell \u001b[1;32mIn [6], line 1\u001b[0m\n\u001b[1;32m----> 1\u001b[0m \u001b[43mlist_mix\u001b[49m\u001b[43m[\u001b[49m\u001b[38;5;241;43m2.3\u001b[39;49m\u001b[43m]\u001b[49m\n",
      "\u001b[1;31mTypeError\u001b[0m: list indices must be integers or slices, not float"
     ]
    }
   ],
   "source": [
    "list_mix[2.3]"
   ]
  },
  {
   "cell_type": "markdown",
   "metadata": {},
   "source": [
    "Listelerde uzunluk"
   ]
  },
  {
   "cell_type": "code",
   "execution_count": 7,
   "metadata": {},
   "outputs": [
    {
     "name": "stdout",
     "output_type": "stream",
     "text": [
      "['Kardelen', 23, 20000, True, 13.4]\n",
      "Listemizin uzunluğu:  5\n"
     ]
    }
   ],
   "source": [
    "print(list_mix)\n",
    "print(\"Listemizin uzunluğu: \", len(list_mix))"
   ]
  }
 ],
 "metadata": {
  "kernelspec": {
   "display_name": "Python 3.10.7 64-bit",
   "language": "python",
   "name": "python3"
  },
  "language_info": {
   "codemirror_mode": {
    "name": "ipython",
    "version": 3
   },
   "file_extension": ".py",
   "mimetype": "text/x-python",
   "name": "python",
   "nbconvert_exporter": "python",
   "pygments_lexer": "ipython3",
   "version": "3.10.7"
  },
  "orig_nbformat": 4,
  "vscode": {
   "interpreter": {
    "hash": "069f238df288ea09d7b18ad4fdd00a6dec393d601f860917fae3606455fbfe67"
   }
  }
 },
 "nbformat": 4,
 "nbformat_minor": 2
}
