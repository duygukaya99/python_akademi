{
 "cells": [
  {
   "cell_type": "markdown",
   "metadata": {},
   "source": [
    "**Veri Yapıları**\n",
    "\n",
    "* List\n",
    "* Tuple\n",
    "* Set\n",
    "* Dictionary"
   ]
  },
  {
   "cell_type": "markdown",
   "metadata": {},
   "source": [
    "**Listeler**\n",
    "\n",
    "* index ile erişilebilir, ordered yani sıralıdır.\n",
    "* mutable (değiştirilebilir) yani liste içine eklenen bir veri değiştirilebilir # bu çok kullanılır.\n",
    "* listeler [] ile tanımlanır. Liste içindeki elemanlar da virgüller ile ayrılır.\n",
    "* farklı tipte veri içerebilir.\n",
    "* aynı değerlere sahip iki elemana sahip olabilir. Duplicate veri barındırabilir.\n",
    " "
   ]
  },
  {
   "cell_type": "code",
   "execution_count": 1,
   "metadata": {},
   "outputs": [],
   "source": [
    "list_int = [1, 6, 8 , 4, -1, 1]\n",
    "list_string = [\"Zeynep\", \"Duru\", \"Kaya\"]\n",
    "list_boolean = [True, False]\n",
    "list_float = [1.2, 4.6, 13.7]\n",
    "\n",
    "list_mix = [\"Kardelen\", 23, 20000, True, 13.4]"
   ]
  },
  {
   "cell_type": "markdown",
   "metadata": {},
   "source": []
  },
  {
   "cell_type": "code",
   "execution_count": 4,
   "metadata": {},
   "outputs": [
    {
     "name": "stdout",
     "output_type": "stream",
     "text": [
      "['Kardelen', 23, 20000, True, 13.4]\n",
      "0.index değeri:  Kardelen\n",
      "1.index değeri:  23\n",
      "2.index değeri:  20000\n",
      "-1.index değeri:  13.4\n",
      "-2.index değeri:  True\n",
      "-3.index değeri:  20000\n"
     ]
    }
   ],
   "source": [
    "print(list_mix)\n",
    "\n",
    "# pozitif indexler ile erişim\n",
    "print(\"0.index değeri: \", list_mix[0])\n",
    "print(\"1.index değeri: \", list_mix[1])\n",
    "print(\"2.index değeri: \", list_mix[2])\n",
    "\n",
    "# negatif indexler ile erişim\n",
    "print(\"-1.index değeri: \", list_mix[-1])\n",
    "print(\"-2.index değeri: \", list_mix[-2])\n",
    "print(\"-3.index değeri: \", list_mix[-3])"
   ]
  },
  {
   "cell_type": "code",
   "execution_count": 6,
   "metadata": {},
   "outputs": [
    {
     "ename": "TypeError",
     "evalue": "list indices must be integers or slices, not float",
     "output_type": "error",
     "traceback": [
      "\u001b[1;31m---------------------------------------------------------------------------\u001b[0m",
      "\u001b[1;31mTypeError\u001b[0m                                 Traceback (most recent call last)",
      "Cell \u001b[1;32mIn [6], line 1\u001b[0m\n\u001b[1;32m----> 1\u001b[0m \u001b[43mlist_mix\u001b[49m\u001b[43m[\u001b[49m\u001b[38;5;241;43m2.3\u001b[39;49m\u001b[43m]\u001b[49m\n",
      "\u001b[1;31mTypeError\u001b[0m: list indices must be integers or slices, not float"
     ]
    }
   ],
   "source": [
    "list_mix[2.3]"
   ]
  },
  {
   "cell_type": "markdown",
   "metadata": {},
   "source": [
    "Listelerde uzunluk"
   ]
  },
  {
   "cell_type": "code",
   "execution_count": 7,
   "metadata": {},
   "outputs": [
    {
     "name": "stdout",
     "output_type": "stream",
     "text": [
      "['Kardelen', 23, 20000, True, 13.4]\n",
      "Listemizin uzunluğu:  5\n"
     ]
    }
   ],
   "source": [
    "print(list_mix)\n",
    "print(\"Listemizin uzunluğu: \", len(list_mix))"
   ]
  },
  {
   "cell_type": "markdown",
   "metadata": {},
   "source": [
    "Slicing işlemi"
   ]
  },
  {
   "cell_type": "code",
   "execution_count": 2,
   "metadata": {},
   "outputs": [
    {
     "name": "stdout",
     "output_type": "stream",
     "text": [
      "['Bilge', 26, 'AI & ML Engineer', True, 15000.34, 'Menekşe', 'Merve', 'Şule']\n"
     ]
    }
   ],
   "source": [
    "my_list = [\"Bilge\", 26, \"AI & ML Engineer\", True, 15000.34, \"Menekşe\", \"Merve\", \"Şule\"]\n",
    "print(my_list)"
   ]
  },
  {
   "cell_type": "code",
   "execution_count": 3,
   "metadata": {},
   "outputs": [
    {
     "name": "stdout",
     "output_type": "stream",
     "text": [
      "['Bilge', 26, 'AI & ML Engineer', True]\n"
     ]
    }
   ],
   "source": [
    "# ilk dört elemanı ekrana basalım.\n",
    "print(my_list[0:4])"
   ]
  },
  {
   "cell_type": "code",
   "execution_count": 9,
   "metadata": {},
   "outputs": [
    {
     "name": "stdout",
     "output_type": "stream",
     "text": [
      "['Bilge', 'AI & ML Engineer', 15000.34, 'Merve']\n"
     ]
    },
    {
     "data": {
      "text/plain": [
       "['Bilge', 'AI & ML Engineer', 15000.34, 'Merve']"
      ]
     },
     "execution_count": 9,
     "metadata": {},
     "output_type": "execute_result"
    }
   ],
   "source": [
    "# her iki elemanda bir atlayarak ekrana bas\n",
    "print(my_list[::2])\n",
    "my_list[0:len(my_list):2]"
   ]
  },
  {
   "cell_type": "code",
   "execution_count": 10,
   "metadata": {},
   "outputs": [
    {
     "name": "stdout",
     "output_type": "stream",
     "text": [
      "['AI & ML Engineer', True, 15000.34]\n"
     ]
    }
   ],
   "source": [
    "# 2 ile 5 index aralığındaki elemanları basalım\n",
    "print(my_list[2:5])\n"
   ]
  },
  {
   "cell_type": "code",
   "execution_count": 12,
   "metadata": {},
   "outputs": [
    {
     "name": "stdout",
     "output_type": "stream",
     "text": [
      "['Şule', 'Merve', 'Menekşe', 15000.34, True, 'AI & ML Engineer', 26, 'Bilge']\n"
     ]
    }
   ],
   "source": [
    "# listeyi tersten yazdıralım\n",
    "print(my_list[::-1])"
   ]
  },
  {
   "cell_type": "markdown",
   "metadata": {},
   "source": [
    "Döngüler ile listenin elemanlarını ekrana yazdırma"
   ]
  },
  {
   "cell_type": "code",
   "execution_count": 15,
   "metadata": {},
   "outputs": [
    {
     "name": "stdout",
     "output_type": "stream",
     "text": [
      "Bilge\n",
      "26\n",
      "AI & ML Engineer\n",
      "True\n",
      "15000.34\n",
      "Menekşe\n",
      "Merve\n",
      "Şule\n"
     ]
    }
   ],
   "source": [
    "for item in my_list:\n",
    "    print(item)"
   ]
  },
  {
   "cell_type": "markdown",
   "metadata": {},
   "source": [
    "Elemanları yan yana gösterelim"
   ]
  },
  {
   "cell_type": "code",
   "execution_count": 18,
   "metadata": {},
   "outputs": [
    {
     "name": "stdout",
     "output_type": "stream",
     "text": [
      "Bilge - 26 - AI & ML Engineer - True - 15000.34 - Menekşe - Merve - Şule - "
     ]
    }
   ],
   "source": [
    "for item in my_list:\n",
    "    print(item, end=\" - \")"
   ]
  },
  {
   "cell_type": "markdown",
   "metadata": {},
   "source": [
    "indexler üzerinden erişim"
   ]
  },
  {
   "cell_type": "code",
   "execution_count": 24,
   "metadata": {},
   "outputs": [
    {
     "name": "stdout",
     "output_type": "stream",
     "text": [
      "0. index değeri: Bilge\n",
      "1. index değeri: 26\n",
      "2. index değeri: AI & ML Engineer\n",
      "3. index değeri: True\n",
      "4. index değeri: 15000.34\n",
      "5. index değeri: Menekşe\n",
      "6. index değeri: Merve\n",
      "7. index değeri: Şule\n"
     ]
    }
   ],
   "source": [
    "for i in range(0, len(my_list)):\n",
    "    print(f\"{i}. index değeri: {my_list[i]}\")\n"
   ]
  },
  {
   "cell_type": "markdown",
   "metadata": {},
   "source": [
    "Listelere eleman ekleme\n",
    "\n",
    "* append()\n",
    "* insert\n",
    "* extend()"
   ]
  },
  {
   "cell_type": "markdown",
   "metadata": {},
   "source": [
    "append() -> listenin sonuna eklenir. "
   ]
  },
  {
   "cell_type": "code",
   "execution_count": 25,
   "metadata": {},
   "outputs": [
    {
     "name": "stdout",
     "output_type": "stream",
     "text": [
      "['Bilge', 26, 'AI & ML Engineer', True, 15000.34, 'Menekşe', 'Merve', 'Şule']\n",
      "['Bilge', 26, 'AI & ML Engineer', True, 15000.34, 'Menekşe', 'Merve', 'Şule', 'Edanur']\n"
     ]
    }
   ],
   "source": [
    "my_list = [\"Bilge\", 26, \"AI & ML Engineer\", True, 15000.34, \"Menekşe\", \"Merve\", \"Şule\"]\n",
    "print(my_list)\n",
    "\n",
    "my_list.append(\"Edanur\")\n",
    "print(my_list)"
   ]
  },
  {
   "cell_type": "markdown",
   "metadata": {},
   "source": [
    "insert() -> istenen indexte konumlandırma yapar"
   ]
  },
  {
   "cell_type": "code",
   "execution_count": 26,
   "metadata": {},
   "outputs": [
    {
     "name": "stdout",
     "output_type": "stream",
     "text": [
      "['Bilge', 26, 'AI & ML Engineer', True, 15000.34, 'Menekşe', 'Merve', 'Şule', 'Edanur']\n",
      "['Betül', 'Bilge', 26, 'AI & ML Engineer', True, 15000.34, 'Menekşe', 'Merve', 'Şule', 'Edanur']\n"
     ]
    }
   ],
   "source": [
    "print(my_list)\n",
    "\n",
    "my_list.insert(0, \"Betül\") # indexe istediğin değeri verebilirsin.\n",
    "print(my_list)"
   ]
  },
  {
   "cell_type": "markdown",
   "metadata": {},
   "source": [
    "extend() -> listenin sonuna ekleme yapar.\n",
    "Aynı anda birden fazla eleman ekleyebilirsin."
   ]
  },
  {
   "cell_type": "code",
   "execution_count": 28,
   "metadata": {},
   "outputs": [
    {
     "name": "stdout",
     "output_type": "stream",
     "text": [
      "['Bilge', 26, 'AI & ML Engineer', True, 15000.34, 'Menekşe', 'Merve', 'Şule']\n",
      "['Bilge', 26, 'AI & ML Engineer', True, 15000.34, 'Menekşe', 'Merve', 'Şule', 1, 2, 3, 4]\n"
     ]
    }
   ],
   "source": [
    "my_list = [\"Bilge\", 26, \"AI & ML Engineer\", True, 15000.34, \"Menekşe\", \"Merve\", \"Şule\"]\n",
    "print(my_list)\n",
    "\n",
    "my_list.extend([1, 2, 3, 4, [5, 6, 7]]) # liste içinde liste\n",
    "# ya da append ile direkt liste olarak ekleyebilirsin.\n",
    "print(my_list)"
   ]
  },
  {
   "cell_type": "markdown",
   "metadata": {},
   "source": [
    "Liste elemanları üzerinde değişiklik"
   ]
  },
  {
   "cell_type": "code",
   "execution_count": 30,
   "metadata": {},
   "outputs": [
    {
     "name": "stdout",
     "output_type": "stream",
     "text": [
      "Önceki hali:  [1, 4, 6, 7, 8, 3]\n",
      "Sonraki hali:  [78, 4, 6, 7, 8, 3]\n"
     ]
    }
   ],
   "source": [
    "my_list = [1, 4, 6, 7, 8, 3]\n",
    "print(\"Önceki hali: \", my_list)\n",
    "\n",
    "my_list[0] = 78\n",
    "print(\"Sonraki hali: \", my_list)"
   ]
  },
  {
   "cell_type": "code",
   "execution_count": 31,
   "metadata": {},
   "outputs": [
    {
     "name": "stdout",
     "output_type": "stream",
     "text": [
      "Önceki hali:  [78, 4, 6, 7, 8, 3]\n",
      "Sonraki hali:  [78, 12, 13, 14, 8, 3]\n"
     ]
    }
   ],
   "source": [
    "print(\"Önceki hali: \", my_list)\n",
    "\n",
    "my_list[1:4]= [12, 13, 14]\n",
    "print(\"Sonraki hali: \", my_list)"
   ]
  },
  {
   "cell_type": "code",
   "execution_count": 37,
   "metadata": {},
   "outputs": [
    {
     "name": "stdout",
     "output_type": "stream",
     "text": [
      "Önceki hali:  [1, 4, 6, 7, 8, 3]\n",
      "[2, 5, 7, 8, 9, 4]\n"
     ]
    }
   ],
   "source": [
    "# Listenin tüm elemanlarına 1 ekle\n",
    "my_list = [1, 4, 6, 7, 8, 3]\n",
    "print(\"Önceki hali: \", my_list)\n",
    "for i in range(0, len(my_list)):\n",
    "    my_list[i] += 1\n",
    "print(my_list) "
   ]
  },
  {
   "cell_type": "markdown",
   "metadata": {},
   "source": [
    "Listeden eleman silme\n",
    "\n",
    "* remove()\n",
    "* pop()\n",
    "* clear()\n",
    "* del()"
   ]
  },
  {
   "cell_type": "markdown",
   "metadata": {},
   "source": [
    "remove() -> ile listeden istenen \"ilk\" eleman silinir."
   ]
  },
  {
   "cell_type": "code",
   "execution_count": 40,
   "metadata": {},
   "outputs": [],
   "source": [
    "my_list = [0, 1, 2, 3, 4, 1, 5, 6, 7, 8, 1, 9, 10, 11, 2, 12, 13]"
   ]
  },
  {
   "cell_type": "code",
   "execution_count": 41,
   "metadata": {},
   "outputs": [
    {
     "name": "stdout",
     "output_type": "stream",
     "text": [
      "Önceki hali: [0, 1, 2, 3, 4, 1, 5, 6, 7, 8, 1, 9, 10, 11, 2, 12, 13]\n",
      "Sonraki hali: [0, 2, 3, 4, 1, 5, 6, 7, 8, 1, 9, 10, 11, 2, 12, 13]\n"
     ]
    }
   ],
   "source": [
    "print(\"Önceki hali:\", my_list)\n",
    "\n",
    "my_list.remove(1)\n",
    "print(\"Sonraki hali:\", my_list)"
   ]
  },
  {
   "cell_type": "markdown",
   "metadata": {},
   "source": [
    "Listede olmayan bir elemanın silinmesi"
   ]
  },
  {
   "cell_type": "code",
   "execution_count": 42,
   "metadata": {},
   "outputs": [
    {
     "ename": "ValueError",
     "evalue": "list.remove(x): x not in list",
     "output_type": "error",
     "traceback": [
      "\u001b[1;31m---------------------------------------------------------------------------\u001b[0m",
      "\u001b[1;31mValueError\u001b[0m                                Traceback (most recent call last)",
      "Cell \u001b[1;32mIn [42], line 1\u001b[0m\n\u001b[1;32m----> 1\u001b[0m \u001b[43mmy_list\u001b[49m\u001b[38;5;241;43m.\u001b[39;49m\u001b[43mremove\u001b[49m\u001b[43m(\u001b[49m\u001b[38;5;241;43m100\u001b[39;49m\u001b[43m)\u001b[49m\n",
      "\u001b[1;31mValueError\u001b[0m: list.remove(x): x not in list"
     ]
    }
   ],
   "source": [
    "my_list.remove(100)"
   ]
  },
  {
   "cell_type": "markdown",
   "metadata": {},
   "source": [
    "**pop()** -> Herhangi bir index verilmezse sondaki eleman, index verilirse ilgili indexteki eleman silinir."
   ]
  },
  {
   "cell_type": "code",
   "execution_count": 43,
   "metadata": {},
   "outputs": [
    {
     "name": "stdout",
     "output_type": "stream",
     "text": [
      "Sonraki hali: ['zeynep', 'öykü', 'betül', 'irem', 'nihal', 'irem', 'öykü']\n",
      "İkinci hali: ['zeynep', 'öykü', 'irem', 'nihal', 'irem', 'öykü']\n"
     ]
    }
   ],
   "source": [
    "my_list = [\"zeynep\", \"öykü\", \"betül\", \"irem\", \"nihal\", \"irem\", \"öykü\", \"öykü\"]\n",
    "\n",
    "my_list.pop()\n",
    "print(\"Sonraki hali:\", my_list)\n",
    "my_list.pop(2) # 2. indexi sildi\n",
    "print(\"İkinci hali:\", my_list)"
   ]
  },
  {
   "cell_type": "markdown",
   "metadata": {},
   "source": [
    "del() -> listeyi tamamen siler."
   ]
  },
  {
   "cell_type": "code",
   "execution_count": 45,
   "metadata": {},
   "outputs": [
    {
     "name": "stdout",
     "output_type": "stream",
     "text": [
      "['zeynep', 'öykü', 'betül', 'irem', 'nihal', 'irem', 'öykü', 'öykü']\n",
      "['zeynep', 'irem', 'nihal', 'irem', 'öykü', 'öykü']\n"
     ]
    },
    {
     "ename": "NameError",
     "evalue": "name 'my_list' is not defined",
     "output_type": "error",
     "traceback": [
      "\u001b[1;31m---------------------------------------------------------------------------\u001b[0m",
      "\u001b[1;31mNameError\u001b[0m                                 Traceback (most recent call last)",
      "Cell \u001b[1;32mIn [45], line 8\u001b[0m\n\u001b[0;32m      5\u001b[0m \u001b[38;5;28mprint\u001b[39m(my_list)\n\u001b[0;32m      6\u001b[0m \u001b[38;5;28;01mdel\u001b[39;00m my_list \u001b[38;5;66;03m# listeyi tamamen siler\u001b[39;00m\n\u001b[1;32m----> 8\u001b[0m \u001b[38;5;28mprint\u001b[39m(\u001b[43mmy_list\u001b[49m)\n",
      "\u001b[1;31mNameError\u001b[0m: name 'my_list' is not defined"
     ]
    }
   ],
   "source": [
    "my_list = [\"zeynep\", \"öykü\", \"betül\", \"irem\", \"nihal\", \"irem\", \"öykü\", \"öykü\"]\n",
    "print(my_list)\n",
    "\n",
    "del my_list[1:3] # belirtilen aralıktaki değerleri siler\n",
    "print(my_list)\n",
    "del my_list # listeyi tamamen siler\n",
    "\n",
    "print(my_list)"
   ]
  },
  {
   "cell_type": "markdown",
   "metadata": {},
   "source": [
    "clear() -> liste içerisindeki tüm elemanları siler. Çıktı olarak da boş liste döner\n"
   ]
  },
  {
   "cell_type": "code",
   "execution_count": 46,
   "metadata": {},
   "outputs": [
    {
     "name": "stdout",
     "output_type": "stream",
     "text": [
      "['zeynep', 'öykü', 'betül', 'irem', 'nihal', 'irem', 'öykü', 'öykü']\n",
      "[]\n"
     ]
    }
   ],
   "source": [
    "my_list = [\"zeynep\", \"öykü\", \"betül\", \"irem\", \"nihal\", \"irem\", \"öykü\", \"öykü\"]\n",
    "print(my_list)\n",
    "\n",
    "my_list.clear()\n",
    "print(my_list)"
   ]
  },
  {
   "cell_type": "markdown",
   "metadata": {},
   "source": [
    "Bir liste içerisinde eleman bulma\n",
    "\n",
    "index()"
   ]
  },
  {
   "cell_type": "code",
   "execution_count": 48,
   "metadata": {},
   "outputs": [
    {
     "name": "stdout",
     "output_type": "stream",
     "text": [
      "2\n"
     ]
    }
   ],
   "source": [
    "movies = [\"Friends\", \"The Office\", \"Big Bang Theory\", \"Breaking Bad\", \"HIMYM\", \"Heartland\"]\n",
    "\n",
    "print(movies.index(\"Big Bang Theory\"))"
   ]
  },
  {
   "cell_type": "code",
   "execution_count": 49,
   "metadata": {},
   "outputs": [
    {
     "ename": "ValueError",
     "evalue": "'The Big Bang Theory' is not in list",
     "output_type": "error",
     "traceback": [
      "\u001b[1;31m---------------------------------------------------------------------------\u001b[0m",
      "\u001b[1;31mValueError\u001b[0m                                Traceback (most recent call last)",
      "Cell \u001b[1;32mIn [49], line 1\u001b[0m\n\u001b[1;32m----> 1\u001b[0m \u001b[38;5;28mprint\u001b[39m(\u001b[43mmovies\u001b[49m\u001b[38;5;241;43m.\u001b[39;49m\u001b[43mindex\u001b[49m\u001b[43m(\u001b[49m\u001b[38;5;124;43m\"\u001b[39;49m\u001b[38;5;124;43mThe Big Bang Theory\u001b[39;49m\u001b[38;5;124;43m\"\u001b[39;49m\u001b[43m)\u001b[49m)\n",
      "\u001b[1;31mValueError\u001b[0m: 'The Big Bang Theory' is not in list"
     ]
    }
   ],
   "source": [
    "print(movies.index(\"The Big Bang Theory\"))"
   ]
  },
  {
   "cell_type": "markdown",
   "metadata": {},
   "source": [
    "İki listeyi concat etme (birleştirme)\n",
    "\n",
    "* **+** operatörü ile \n",
    "* extend() metodu ile"
   ]
  },
  {
   "cell_type": "code",
   "execution_count": 52,
   "metadata": {},
   "outputs": [
    {
     "name": "stdout",
     "output_type": "stream",
     "text": [
      "[1, 2, 3, 4, 5, 6]\n"
     ]
    }
   ],
   "source": [
    "my_list1 = [1, 2, 3]\n",
    "my_list2 = [4, 5, 6]\n",
    "\n",
    "my_list3 = my_list1 + my_list2\n",
    "print(my_list3)\n"
   ]
  },
  {
   "cell_type": "code",
   "execution_count": 53,
   "metadata": {},
   "outputs": [
    {
     "name": "stdout",
     "output_type": "stream",
     "text": [
      "[1, 2, 3, 4, 5, 6, 1]\n"
     ]
    }
   ],
   "source": [
    "my_list1 = [1, 2, 3]\n",
    "my_list2 = [4, 5, 6, 1]\n",
    "\n",
    "my_list1.extend(my_list2)\n",
    "print(my_list1)"
   ]
  },
  {
   "cell_type": "code",
   "execution_count": 62,
   "metadata": {},
   "outputs": [
    {
     "name": "stdout",
     "output_type": "stream",
     "text": [
      "['zeynep', 'betül', 'irem', 'nihal', 'irem', 1, 'öykü']\n"
     ]
    }
   ],
   "source": [
    "my_list = [\"zeynep\", \"öykü\", \"betül\", \"irem\", \"nihal\", \"irem\", \"öykü\", \"öykü\"]\n",
    "\n",
    "for item in my_list:\n",
    "    if item == \"öykü\":\n",
    "        my_list.remove(\"öykü\")\n",
    "print(my_list)\n",
    "\n",
    "# böyle yaptığımızda sondaki öyküyü silmedi çünkü her seferinde index değişiyor"
   ]
  },
  {
   "cell_type": "code",
   "execution_count": 71,
   "metadata": {},
   "outputs": [
    {
     "name": "stdout",
     "output_type": "stream",
     "text": [
      "['zeynep', 'betül', 'irem', 'nihal', 'irem']\n"
     ]
    }
   ],
   "source": [
    "my_list = [\"zeynep\", \"öykü\", \"betül\", \"irem\", \"nihal\", \"irem\", \"öykü\", \"öykü\"]\n",
    "\n",
    "while \"öykü\" in my_list:    \n",
    "    # my_list.pop(my_list.index(\"öykü\"))\n",
    "    my_list.remove(\"öykü\")\n",
    "print(my_list)\n",
    "    "
   ]
  },
  {
   "cell_type": "markdown",
   "metadata": {},
   "source": [
    "Bir listeyi kopyalama"
   ]
  },
  {
   "cell_type": "code",
   "execution_count": 72,
   "metadata": {},
   "outputs": [
    {
     "name": "stdout",
     "output_type": "stream",
     "text": [
      "[1, 2, 3, 4]\n"
     ]
    }
   ],
   "source": [
    "my_list = [1, 2, 3]\n",
    "\n",
    "new_list = my_list\n",
    "\n",
    "my_list.append(4)\n",
    "print(new_list)  # atama operatörü ile\n",
    "# iki liste de birbirinden etkileniyor, bağımlı"
   ]
  },
  {
   "cell_type": "markdown",
   "metadata": {},
   "source": [
    "copy()"
   ]
  },
  {
   "cell_type": "code",
   "execution_count": 73,
   "metadata": {},
   "outputs": [
    {
     "name": "stdout",
     "output_type": "stream",
     "text": [
      "[1, 2, 3]\n"
     ]
    }
   ],
   "source": [
    "my_list = [1, 2, 3]\n",
    "new_list = my_list.copy()\n",
    "\n",
    "my_list.append(4)\n",
    "print(new_list)\n",
    "\n",
    "# atama operatörü ile yapılanlarda er iki liste de aynı yeri işaret eder\n",
    "# copy ile yaptığın farklı yeri işaret eder ve birbirini etkilemez"
   ]
  },
  {
   "cell_type": "markdown",
   "metadata": {},
   "source": [
    "* sort\n",
    "* reverse\n",
    "* max, min\n",
    "* sum"
   ]
  },
  {
   "cell_type": "code",
   "execution_count": 81,
   "metadata": {},
   "outputs": [
    {
     "name": "stdout",
     "output_type": "stream",
     "text": [
      "Listenin ilk hali:  [1, 6, 3, 8, 0]\n",
      "Listenin sıralanmış hali:  [0, 1, 3, 6, 8]\n",
      "Listenin tersten sıralanmış hali:  [8, 6, 3, 1, 0]\n",
      "Listenin max elemanı:  8\n",
      "Listenin min elemanı:  0\n",
      "Listenin elemanları toplamı:  18\n"
     ]
    }
   ],
   "source": [
    "my_list = [1, 6, 3, 8, 0]\n",
    "\n",
    "print(\"Listenin ilk hali: \", my_list)\n",
    "\n",
    "my_list.sort()\n",
    "print(\"Listenin sıralanmış hali: \", my_list)\n",
    "\n",
    "my_list.reverse()\n",
    "print(\"Listenin tersten sıralanmış hali: \", my_list)\n",
    "\n",
    "print(\"Listenin max elemanı: \", max(my_list))\n",
    "print(\"Listenin min elemanı: \", min(my_list))\n",
    "print(\"Listenin elemanları toplamı: \", sum(my_list))"
   ]
  },
  {
   "cell_type": "markdown",
   "metadata": {},
   "source": [
    "İç içe listeler "
   ]
  },
  {
   "cell_type": "code",
   "execution_count": 86,
   "metadata": {},
   "outputs": [
    {
     "name": "stdout",
     "output_type": "stream",
     "text": [
      "['Software Developer', 'Android Dev.', 'AI & ML Engineer']\n",
      "Software Developer\n",
      "AI & ML Engineer\n"
     ]
    }
   ],
   "source": [
    "my_list = [\"Aysel Aydin\", 2015, [\"Software Developer\", \"Android Dev.\", \"AI & ML Engineer\"], 7, 3467]\n",
    "\n",
    "print(my_list[2])\n",
    "print(my_list[2][0])\n",
    "print(my_list[2][-1])\n"
   ]
  },
  {
   "cell_type": "code",
   "execution_count": 87,
   "metadata": {},
   "outputs": [
    {
     "name": "stdout",
     "output_type": "stream",
     "text": [
      "[4, 16, 36, 64, 100, 0]\n"
     ]
    }
   ],
   "source": [
    "# bu listedeki çift sayıların karelerinden yeni bir liste oluşturalım\n",
    "my_list = [1, 2, 3, 4, 5, 6, 7, 8, 9, 10, 0]\n",
    "\n",
    "new_list = []\n",
    "\n",
    "for i in my_list:\n",
    "    if i % 2 == 0:\n",
    "       new_list.append(i**2)\n",
    "\n",
    "print(new_list) \n"
   ]
  },
  {
   "cell_type": "code",
   "execution_count": 96,
   "metadata": {},
   "outputs": [
    {
     "name": "stdout",
     "output_type": "stream",
     "text": [
      "0 1 2 3 \n",
      "3 4 6 8 \n",
      "3 4 6 8 "
     ]
    }
   ],
   "source": [
    "# Eğitmen title değerini 2. indexe ekleyelim\n",
    "\n",
    "my_list = [3, 4, 6, 8]\n",
    "for i in range(0, len(my_list)):\n",
    "    print(i, end = \" \") # index\n",
    "print()\n",
    "for i in my_list:\n",
    "    print(i, end = \" \") # values\n",
    "print()\n",
    "for i in range(0, len(my_list)):\n",
    "    print(my_list[i], end = \" \") # index"
   ]
  },
  {
   "cell_type": "code",
   "execution_count": 98,
   "metadata": {},
   "outputs": [
    {
     "name": "stdout",
     "output_type": "stream",
     "text": [
      "['Aysel Aydin', 2015, ['Software Developer', 'Android Dev.', 'AI & ML Engineer', 'Eğitmen'], 7, 3467]\n"
     ]
    }
   ],
   "source": [
    "my_list = [\"Aysel Aydin\", 2015, [\"Software Developer\", \"Android Dev.\", \"AI & ML Engineer\"], 7, 3467]\n",
    "\n",
    "my_list[2].append(\"Eğitmen\")\n",
    "print(my_list)"
   ]
  },
  {
   "cell_type": "code",
   "execution_count": 100,
   "metadata": {},
   "outputs": [
    {
     "name": "stdout",
     "output_type": "stream",
     "text": [
      "[10, 20, 30, 40, 50]\n"
     ]
    }
   ],
   "source": [
    "my_list = [10, 10, 20, 30, 10, 20, 40, 50]\n",
    "unique_list =[]\n",
    "\n",
    "for i in my_list:\n",
    "    if i not in unique_list:\n",
    "        unique_list.append(i) \n",
    "\n",
    "print(unique_list)"
   ]
  },
  {
   "cell_type": "code",
   "execution_count": 106,
   "metadata": {},
   "outputs": [
    {
     "name": "stdout",
     "output_type": "stream",
     "text": [
      "10\n"
     ]
    }
   ],
   "source": [
    "# liste içerisinde en büyük değeri bulma (max metodu kullanmadan)\n",
    "my_list = [1, 2, 3, 4, 5, 6, 7, 8, 9, 10, 0]\n",
    "\n",
    "temp = 0\n",
    "for i in my_list:\n",
    "   if i > temp:\n",
    "    temp = i\n",
    "\n",
    "print(temp)\n"
   ]
  },
  {
   "cell_type": "code",
   "execution_count": 109,
   "metadata": {},
   "outputs": [
    {
     "name": "stdout",
     "output_type": "stream",
     "text": [
      "['Sisterslab', 'Women', 'in', 'Tech', 'Python', 'akademimiz', 'tüm', 'hızıyla', 'devam', 'etmektedir']\n",
      "['Sisterslab', 'Women', 'Tech', 'Python', 'akademimiz', 'hızıyla', 'devam', 'etmektedir']\n"
     ]
    }
   ],
   "source": [
    "# text içerisinde yer alan kelimelerden uzunluğu dörtten büyük eşit olanları ayrı bir listeye atalım\n",
    "text = \"Sisterslab Women in Tech Python akademimiz tüm hızıyla devam etmektedir\"\n",
    "\n",
    "words = text.split(\" \") # her boşluğu ayırıyor\n",
    "print(words)\n",
    "\n",
    "new_list = []\n",
    "for i in words:\n",
    "    if len(i) >= 4:\n",
    "        new_list.append(i)\n",
    "\n",
    "print(new_list)"
   ]
  }
 ],
 "metadata": {
  "kernelspec": {
   "display_name": "Python 3.10.7 64-bit",
   "language": "python",
   "name": "python3"
  },
  "language_info": {
   "codemirror_mode": {
    "name": "ipython",
    "version": 3
   },
   "file_extension": ".py",
   "mimetype": "text/x-python",
   "name": "python",
   "nbconvert_exporter": "python",
   "pygments_lexer": "ipython3",
   "version": "3.10.7"
  },
  "orig_nbformat": 4,
  "vscode": {
   "interpreter": {
    "hash": "069f238df288ea09d7b18ad4fdd00a6dec393d601f860917fae3606455fbfe67"
   }
  }
 },
 "nbformat": 4,
 "nbformat_minor": 2
}
