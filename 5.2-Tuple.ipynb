{
 "cells": [
  {
   "cell_type": "markdown",
   "metadata": {},
   "source": [
    "**Tuple**\n",
    "\n",
    "* Listeler gibi index ile erişilebilir, ordered yani sıralıdır.\n",
    "* Tuple değiştirilemezler (immutable). Oluşturulduktan sonra eleman eklenemez, silinemez.\n",
    "* () parantez içerisinde tanımlanır. Elemanlar virgüller ile ayrılır.\n",
    "* Farklı veri tipleri içerebilir.\n",
    "* Duplicate veri bulundurabilir. Aynı eleman birden fazla değer alabilir."
   ]
  },
  {
   "cell_type": "code",
   "execution_count": 2,
   "metadata": {},
   "outputs": [
    {
     "name": "stdout",
     "output_type": "stream",
     "text": [
      "(1, 6, 4, 1, 'Python', True, 13.4)\n"
     ]
    },
    {
     "data": {
      "text/plain": [
       "tuple"
      ]
     },
     "execution_count": 2,
     "metadata": {},
     "output_type": "execute_result"
    }
   ],
   "source": [
    "int_tuple = (1, 3, 5)\n",
    "string_tuple = (\"Python\", \"kotlin\", \"Javascript\", \"Flutter\")\n",
    "mix_tuple = (1, 6, 4, 1, \"Python\", True, 13.4)\n",
    "\n",
    "print(mix_tuple)\n",
    "type(mix_tuple)"
   ]
  },
  {
   "cell_type": "markdown",
   "metadata": {},
   "source": [
    "![title](keywords.png) şeklinde resim ekleyebiliyoruz"
   ]
  },
  {
   "cell_type": "code",
   "execution_count": 3,
   "metadata": {},
   "outputs": [],
   "source": [
    "name, age, salary = \"Aysel\", 10, 1000 # aslında bu bir tuple örneği\n",
    "my_tuple = \"Buse\", 23, 10000 # parantezsiz de kullanabilirsin\n",
    "\n",
    "type(my_tuple)"
   ]
  },
  {
   "cell_type": "code",
   "execution_count": 5,
   "metadata": {},
   "outputs": [
    {
     "name": "stdout",
     "output_type": "stream",
     "text": [
      "Buse 23 10000\n"
     ]
    }
   ],
   "source": [
    "name, age, salary = my_tuple\n",
    "print(name, age, salary) # sırasıyla direkt o değerleri atadık"
   ]
  },
  {
   "cell_type": "code",
   "execution_count": 7,
   "metadata": {},
   "outputs": [
    {
     "name": "stdout",
     "output_type": "stream",
     "text": [
      "Tuple uzunluğu: 3\n"
     ]
    }
   ],
   "source": [
    "print(\"Tuple uzunluğu:\", len(my_tuple))"
   ]
  },
  {
   "cell_type": "markdown",
   "metadata": {},
   "source": [
    "Döngü ile erişim"
   ]
  },
  {
   "cell_type": "code",
   "execution_count": 8,
   "metadata": {},
   "outputs": [
    {
     "name": "stdout",
     "output_type": "stream",
     "text": [
      "Buse\n",
      "23\n",
      "10000\n"
     ]
    }
   ],
   "source": [
    "for item in my_tuple:\n",
    "    print(item)"
   ]
  },
  {
   "cell_type": "code",
   "execution_count": 9,
   "metadata": {},
   "outputs": [
    {
     "name": "stdout",
     "output_type": "stream",
     "text": [
      "0. index değeri: Python\n",
      "1. index değeri: kotlin\n",
      "2. index değeri: Javascript\n",
      "3. index değeri: Flutter\n"
     ]
    }
   ],
   "source": [
    "my_tuple = (\"Python\", \"kotlin\", \"Javascript\", \"Flutter\")\n",
    "\n",
    "for i in range(len(my_tuple)):\n",
    "    print(f\"{i}. index değeri: {my_tuple[i]}\")\n"
   ]
  },
  {
   "cell_type": "code",
   "execution_count": null,
   "metadata": {},
   "outputs": [],
   "source": [
    "# olmayan index değeri ile yaparsak hata alırız -> print(my_tuple[9])"
   ]
  },
  {
   "cell_type": "code",
   "execution_count": 10,
   "metadata": {},
   "outputs": [
    {
     "data": {
      "text/plain": [
       "'Flutter'"
      ]
     },
     "execution_count": 10,
     "metadata": {},
     "output_type": "execute_result"
    }
   ],
   "source": [
    "my_tuple[-1]"
   ]
  },
  {
   "cell_type": "code",
   "execution_count": 11,
   "metadata": {},
   "outputs": [
    {
     "data": {
      "text/plain": [
       "('kotlin', 'Javascript')"
      ]
     },
     "execution_count": 11,
     "metadata": {},
     "output_type": "execute_result"
    }
   ],
   "source": [
    "# slicing\n",
    "\n",
    "my_tuple[1:3]"
   ]
  },
  {
   "cell_type": "code",
   "execution_count": 14,
   "metadata": {},
   "outputs": [
    {
     "data": {
      "text/plain": [
       "1"
      ]
     },
     "execution_count": 14,
     "metadata": {},
     "output_type": "execute_result"
    }
   ],
   "source": [
    "# index \n",
    "\n",
    "my_tuple.index(\"kotlin\") # küçük harf büyük harf duyarlı\n",
    "\n",
    "my_tuple.index(\"kotlin\", 0, 3) # 0-3 arasındaki indexlerde ara, listelerde de oluyor my_list.index(4, 0, 6)"
   ]
  },
  {
   "cell_type": "code",
   "execution_count": 16,
   "metadata": {},
   "outputs": [
    {
     "name": "stdout",
     "output_type": "stream",
     "text": [
      "Kotlin tuple içerisinde ekli\n"
     ]
    }
   ],
   "source": [
    "if \"kotlin\" in my_tuple:\n",
    "    print(\"Kotlin tuple içerisinde ekli\")\n",
    "else: print(\"Kotlin tuple içerisinde ekli değil\")"
   ]
  },
  {
   "cell_type": "markdown",
   "metadata": {},
   "source": [
    "Bir tuple üzerinde eleman ekleme, silme, düzenleme işlemleri yapılamaz. Yapıldığı durumda hata alınır."
   ]
  },
  {
   "cell_type": "code",
   "execution_count": 17,
   "metadata": {},
   "outputs": [
    {
     "ename": "TypeError",
     "evalue": "'tuple' object does not support item assignment",
     "output_type": "error",
     "traceback": [
      "\u001b[1;31m---------------------------------------------------------------------------\u001b[0m",
      "\u001b[1;31mTypeError\u001b[0m                                 Traceback (most recent call last)",
      "Cell \u001b[1;32mIn [17], line 1\u001b[0m\n\u001b[1;32m----> 1\u001b[0m \u001b[43mmy_tuple\u001b[49m\u001b[43m[\u001b[49m\u001b[38;5;241;43m0\u001b[39;49m\u001b[43m]\u001b[49m \u001b[38;5;241m=\u001b[39m \u001b[38;5;124m\"\u001b[39m\u001b[38;5;124mJava\u001b[39m\u001b[38;5;124m\"\u001b[39m\n",
      "\u001b[1;31mTypeError\u001b[0m: 'tuple' object does not support item assignment"
     ]
    }
   ],
   "source": [
    "my_tuple[0] = \"Java\""
   ]
  },
  {
   "cell_type": "code",
   "execution_count": 25,
   "metadata": {},
   "outputs": [
    {
     "name": "stdout",
     "output_type": "stream",
     "text": [
      "Type:  <class 'tuple'>\n",
      "Convert type:  <class 'list'>\n",
      "[0, 1, 2, 3, 4]\n",
      "[0, 1, 2, 3, 4, 5]\n",
      "[0, 1, 2, 3, 4, 5, 6, 7, 8]\n",
      "Son hali:  (0, 1, 2, 3, 4, 5, 6, 7, 8)\n"
     ]
    }
   ],
   "source": [
    "my_tuple = (1, 2, 3, 4)\n",
    "print(\"Type: \", type(my_tuple))\n",
    "\n",
    "temp_list = list(my_tuple)\n",
    "print(\"Convert type: \", type(temp_list))\n",
    "\n",
    "temp_list.insert(0, 0)\n",
    "print(temp_list)\n",
    "\n",
    "temp_list.append(5)\n",
    "print(temp_list)\n",
    "\n",
    "temp_list.extend([6, 7, 8])\n",
    "print(temp_list)\n",
    "\n",
    "my_tuple = tuple(temp_list)\n",
    "print(\"Son hali: \", my_tuple)"
   ]
  },
  {
   "cell_type": "code",
   "execution_count": 28,
   "metadata": {},
   "outputs": [
    {
     "name": "stdout",
     "output_type": "stream",
     "text": [
      "(1, 2, 3, 5, [9, 7, 8], 9)\n"
     ]
    }
   ],
   "source": [
    "my_tuple = (1, 2, 3, 5, [6, 7, 8], 9) \n",
    "\n",
    "my_tuple[4][0] = 9\n",
    "\n",
    "print(my_tuple)"
   ]
  },
  {
   "cell_type": "code",
   "execution_count": 29,
   "metadata": {},
   "outputs": [
    {
     "name": "stdout",
     "output_type": "stream",
     "text": [
      "(1, 2, 3, 5, [9, 7, 8], 9)\n"
     ]
    }
   ],
   "source": [
    "my_tuple1 = my_tuple\n",
    "\n",
    "print(my_tuple1) \n"
   ]
  },
  {
   "cell_type": "code",
   "execution_count": 31,
   "metadata": {},
   "outputs": [
    {
     "data": {
      "text/plain": [
       "9"
      ]
     },
     "execution_count": 31,
     "metadata": {},
     "output_type": "execute_result"
    }
   ],
   "source": [
    "my_tuple = (1, 2, 9, 3, 4)\n",
    "max(my_tuple)"
   ]
  },
  {
   "cell_type": "code",
   "execution_count": null,
   "metadata": {},
   "outputs": [],
   "source": []
  }
 ],
 "metadata": {
  "kernelspec": {
   "display_name": "Python 3.10.7 64-bit",
   "language": "python",
   "name": "python3"
  },
  "language_info": {
   "codemirror_mode": {
    "name": "ipython",
    "version": 3
   },
   "file_extension": ".py",
   "mimetype": "text/x-python",
   "name": "python",
   "nbconvert_exporter": "python",
   "pygments_lexer": "ipython3",
   "version": "3.10.7"
  },
  "orig_nbformat": 4,
  "vscode": {
   "interpreter": {
    "hash": "069f238df288ea09d7b18ad4fdd00a6dec393d601f860917fae3606455fbfe67"
   }
  }
 },
 "nbformat": 4,
 "nbformat_minor": 2
}
