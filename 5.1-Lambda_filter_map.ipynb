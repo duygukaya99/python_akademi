{
 "cells": [
  {
   "cell_type": "markdown",
   "metadata": {},
   "source": [
    "* lambda (isimsiz fonksiyonlar) (kullanması pratik ve daha hızlı)\n",
    "* filter\n",
    "* map"
   ]
  },
  {
   "cell_type": "markdown",
   "metadata": {},
   "source": [
    "**lambda arguments: expression**\n",
    "\n",
    "Syntax olarak sadece bir ifade(expression) ve birden fazla parametre(argument) olabilir."
   ]
  },
  {
   "cell_type": "code",
   "execution_count": 1,
   "metadata": {},
   "outputs": [
    {
     "name": "stdout",
     "output_type": "stream",
     "text": [
      "30\n"
     ]
    }
   ],
   "source": [
    "double = lambda x: x * 2 # x -> arguments x * 2 -> expression\n",
    "# uzun for döngüsü yerine lambda ile tek satırda yapabiliriz\n",
    "\n",
    "print(double(15))"
   ]
  },
  {
   "cell_type": "code",
   "execution_count": 2,
   "metadata": {},
   "outputs": [
    {
     "name": "stdout",
     "output_type": "stream",
     "text": [
      "30\n"
     ]
    }
   ],
   "source": [
    "def double(x):\n",
    "    return x * 2\n",
    "\n",
    "print(double(15))"
   ]
  },
  {
   "cell_type": "code",
   "execution_count": 5,
   "metadata": {},
   "outputs": [
    {
     "name": "stdout",
     "output_type": "stream",
     "text": [
      "4\n",
      "30\n"
     ]
    }
   ],
   "source": [
    "# default değer verme \n",
    "\n",
    "double = lambda x = 2: x * 2 \n",
    "\n",
    "print(double())\n",
    "print(double(15))\n",
    "\n",
    "# def double(x = 10):\n",
    "#     return x * 2\n",
    "\n",
    "# print(double())\n",
    "# print(double(14)) fonksiyonlarla böyle yapardık"
   ]
  },
  {
   "cell_type": "code",
   "execution_count": 8,
   "metadata": {},
   "outputs": [
    {
     "name": "stdout",
     "output_type": "stream",
     "text": [
      "7\n"
     ]
    }
   ],
   "source": [
    "Min = lambda x, y:x if x < y else y\n",
    "# ilk if'in sonucu başa yazılır\n",
    "# tek satırda yazabiliyoruz\n",
    "print(Min(9, 7))"
   ]
  },
  {
   "cell_type": "code",
   "execution_count": 9,
   "metadata": {},
   "outputs": [
    {
     "name": "stdout",
     "output_type": "stream",
     "text": [
      "[[1, 2, 3, 6, 8], [1, 2, 4, 6, 9], [0, 1, 3, 5, 7]]\n"
     ]
    }
   ],
   "source": [
    "# iç içe yer alan listeleri lambda fonk. ile sıralayalım\n",
    "my_list = [[2, 6, 8, 3, 1], [2, 6, 4, 1, 9], [0, 7, 3, 5, 1]]\n",
    "\n",
    "# use_list(x) listenin içi anlamına geliyor\n",
    "sortedList = lambda use_list: (sorted(i) for i in use_list) \n",
    "\n",
    "print(list(sortedList(my_list)))"
   ]
  },
  {
   "cell_type": "code",
   "execution_count": 11,
   "metadata": {},
   "outputs": [
    {
     "name": "stdout",
     "output_type": "stream",
     "text": [
      "[[1, 2, 3, 6, 8], [1, 2, 4, 6, 9], [0, 1, 3, 5, 7]]\n"
     ]
    }
   ],
   "source": [
    "my_list = [[2, 6, 8, 3, 1], [2, 6, 4, 1, 9], [0, 7, 3, 5, 1]]\n",
    "\n",
    "def sortedList(liste):\n",
    "    for index, item in enumerate(my_list): # index ve item değerini aynı anda almamızı sağlıyor enumerate\n",
    "        my_list[index]= sorted(item)\n",
    "\n",
    "    return my_list\n",
    "\n",
    "print(sortedList(my_list))\n"
   ]
  },
  {
   "cell_type": "code",
   "execution_count": 13,
   "metadata": {},
   "outputs": [
    {
     "name": "stdout",
     "output_type": "stream",
     "text": [
      "[230, 40, 20, 670]\n"
     ]
    }
   ],
   "source": [
    "multiply_list = lambda x: (i * 10 for i in x) \n",
    "\n",
    "print(list(multiply_list([23, 4, 2, 67]))) # her birini 10 ile çarpmış oldu"
   ]
  },
  {
   "cell_type": "markdown",
   "metadata": {},
   "source": [
    "**filter()** -> parametre olarak bir lambda yani isimsiz bir fonksiyon ve bir liste alır. Verilen ifadeye uygun elemanları işleme alır ve yeni bir liste döner."
   ]
  },
  {
   "cell_type": "code",
   "execution_count": 17,
   "metadata": {},
   "outputs": [
    {
     "name": "stdout",
     "output_type": "stream",
     "text": [
      "[1, 43, 5, 7, 77]\n"
     ]
    }
   ],
   "source": [
    "# liste içerisindeki tek sayıarı alma\n",
    "my_list = [1, 2, 43, 5, 7, 34, 0, 77]\n",
    "\n",
    "print(list(filter(lambda x: x % 2 != 0, my_list)))"
   ]
  },
  {
   "cell_type": "markdown",
   "metadata": {},
   "source": [
    "map() -> parametre olarak bir lambda yani isimsiz bir fonksiyon ve bir liste alır. Bütün elemanlar üzerinde işlem yapıcaksak map'i kullanıyoruz"
   ]
  },
  {
   "cell_type": "code",
   "execution_count": 18,
   "metadata": {},
   "outputs": [
    {
     "name": "stdout",
     "output_type": "stream",
     "text": [
      "[True, False, True, True, True, False, False, True]\n"
     ]
    }
   ],
   "source": [
    "my_list = [1, 2, 43, 5, 7, 34, 0, 77]\n",
    "\n",
    "print(list(map(lambda x: x % 2 != 0, my_list))) # tek mi çift mi"
   ]
  },
  {
   "cell_type": "code",
   "execution_count": 21,
   "metadata": {},
   "outputs": [
    {
     "name": "stdout",
     "output_type": "stream",
     "text": [
      "[1, 4, 9, 25, 49, 16, 0, 49]\n"
     ]
    }
   ],
   "source": [
    "# map ile her elemanın karesini alan kod bloğunu yazalım\n",
    "\n",
    "my_list = [1, 2, 3, 5, 7, 4, 0, 7]\n",
    "\n",
    "print(list(map(lambda x: x ** 2, my_list)))\n"
   ]
  },
  {
   "cell_type": "code",
   "execution_count": 24,
   "metadata": {},
   "outputs": [
    {
     "name": "stdout",
     "output_type": "stream",
     "text": [
      "[6, 21, 27]\n"
     ]
    }
   ],
   "source": [
    "# map ile liste içerisindeki her listenin ilk elemanının 3 katını döndüren kod \n",
    "\n",
    "my_list = [[2, 6, 8, 3, 1], [7, 6, 4, 1, 9], [9, 7, 3, 5, 1]]\n",
    "\n",
    "print(list(map(lambda x: x[0] * 3, my_list))) # map kullanınca listenin içerisinde gezeceğini söylüyor ama sadece \n",
    "# lambda kullanırsan for döngüsü lazım\n",
    "\n"
   ]
  },
  {
   "cell_type": "code",
   "execution_count": 32,
   "metadata": {},
   "outputs": [
    {
     "data": {
      "text/plain": [
       "[2, 3, 5, 4]"
      ]
     },
     "execution_count": 32,
     "metadata": {},
     "output_type": "execute_result"
    }
   ],
   "source": [
    "# filter ile [20, 30, 15, 10, 13, 50, 40] listesi içerisinde >= 20 olanları bulup map ile\n",
    "# yeni listedeki değerleri integer bölme ile 10'a bölelim ve oluşan listeyi ekrana basalım\n",
    "\n",
    "my_list = [20, 30, 15, 10, 13, 50, 40]\n",
    "\n",
    "filter_list = list(filter(lambda x: x >= 20, [20, 30, 15, 10, 13, 50, 40]))\n",
    "\n",
    "list(map(lambda x: x // 10, filter_list)) # eşitlemeye gerek yok\n",
    "\n",
    "# direkt böyle kullanabilirsin\n",
    "# print(list(map(lambda x: x // 10, filter(lambda x: x >= 20, [20, 30, 15, 10, 13, 50, 40]))))\n"
   ]
  },
  {
   "cell_type": "code",
   "execution_count": 37,
   "metadata": {},
   "outputs": [
    {
     "name": "stdout",
     "output_type": "stream",
     "text": [
      "[34, 2]\n"
     ]
    }
   ],
   "source": [
    "# Listenin içerisinde yer alan integer tipindeki elemanları ekrana bastır\n",
    "my_list = [\"Beyza\", 34, 2, 89.6, True, 'a']\n",
    "\n",
    "print(list(filter(lambda x: type(x) is int, my_list))) # type(x) == int"
   ]
  },
  {
   "cell_type": "code",
   "execution_count": 39,
   "metadata": {},
   "outputs": [
    {
     "name": "stdout",
     "output_type": "stream",
     "text": [
      "['EMRE', 'CEYDA', 'CEREN', 'İLKAY', 'BUKET', 'AYŞE', 'NURCAN']\n"
     ]
    }
   ],
   "source": [
    "# Liste içerisindeki isimleri büyük harfe çevirelim\n",
    "my_list = [\"Emre\", \"Ceyda\", \"Ceren\", \"İlkay\", \"Buket\", \"Ayşe\", \"Nurcan\"]\n",
    "\n",
    "print(list(map(lambda x: x.upper(), my_list)))"
   ]
  }
 ],
 "metadata": {
  "kernelspec": {
   "display_name": "Python 3.10.7 64-bit",
   "language": "python",
   "name": "python3"
  },
  "language_info": {
   "codemirror_mode": {
    "name": "ipython",
    "version": 3
   },
   "file_extension": ".py",
   "mimetype": "text/x-python",
   "name": "python",
   "nbconvert_exporter": "python",
   "pygments_lexer": "ipython3",
   "version": "3.10.7"
  },
  "orig_nbformat": 4,
  "vscode": {
   "interpreter": {
    "hash": "069f238df288ea09d7b18ad4fdd00a6dec393d601f860917fae3606455fbfe67"
   }
  }
 },
 "nbformat": 4,
 "nbformat_minor": 2
}
