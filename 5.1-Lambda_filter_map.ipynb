{
 "cells": [
  {
   "cell_type": "markdown",
   "metadata": {},
   "source": [
    "* lambda (isimsiz fonksiyonlar) (kullanması pratik ve daha hızlı)\n",
    "* filter\n",
    "* map"
   ]
  },
  {
   "cell_type": "markdown",
   "metadata": {},
   "source": [
    "**lambda arguments: expression**\n",
    "\n",
    "Syntax olarak sadece bir ifade(expression) ve birden fazla parametre(argument) olabilir."
   ]
  },
  {
   "cell_type": "code",
   "execution_count": 1,
   "metadata": {},
   "outputs": [
    {
     "name": "stdout",
     "output_type": "stream",
     "text": [
      "30\n"
     ]
    }
   ],
   "source": [
    "double = lambda x: x * 2 # x -> arguments x * 2 -> expression\n",
    "# uzun for döngüsü yerine lambda ile tek satırda yapabiliriz\n",
    "\n",
    "print(double(15))"
   ]
  },
  {
   "cell_type": "code",
   "execution_count": 2,
   "metadata": {},
   "outputs": [
    {
     "name": "stdout",
     "output_type": "stream",
     "text": [
      "30\n"
     ]
    }
   ],
   "source": [
    "def double(x):\n",
    "    return x * 2\n",
    "\n",
    "print(double(15))"
   ]
  },
  {
   "cell_type": "code",
   "execution_count": 5,
   "metadata": {},
   "outputs": [
    {
     "name": "stdout",
     "output_type": "stream",
     "text": [
      "4\n",
      "30\n"
     ]
    }
   ],
   "source": [
    "# default değer verme \n",
    "\n",
    "double = lambda x = 2: x * 2 \n",
    "\n",
    "print(double())\n",
    "print(double(15))\n",
    "\n",
    "# def double(x = 10):\n",
    "#     return x * 2\n",
    "\n",
    "# print(double())\n",
    "# print(double(14)) fonksiyonlarla böyle yapardık"
   ]
  },
  {
   "cell_type": "code",
   "execution_count": 8,
   "metadata": {},
   "outputs": [
    {
     "name": "stdout",
     "output_type": "stream",
     "text": [
      "7\n"
     ]
    }
   ],
   "source": [
    "Min = lambda x, y:x if x < y else y\n",
    "# ilk if'in sonucu başa yazılır\n",
    "# tek satırda yazabiliyoruz\n",
    "print(Min(9, 7))"
   ]
  },
  {
   "cell_type": "code",
   "execution_count": 9,
   "metadata": {},
   "outputs": [
    {
     "name": "stdout",
     "output_type": "stream",
     "text": [
      "[[1, 2, 3, 6, 8], [1, 2, 4, 6, 9], [0, 1, 3, 5, 7]]\n"
     ]
    }
   ],
   "source": [
    "# iç içe yer alan listeleri lambda fonk. ile sıralayalım\n",
    "my_list = [[2, 6, 8, 3, 1], [2, 6, 4, 1, 9], [0, 7, 3, 5, 1]]\n",
    "\n",
    "# use_list(x) listenin içi anlamına geliyor\n",
    "sortedList = lambda use_list: (sorted(i) for i in use_list) \n",
    "\n",
    "print(list(sortedList(my_list)))"
   ]
  },
  {
   "cell_type": "code",
   "execution_count": 11,
   "metadata": {},
   "outputs": [
    {
     "name": "stdout",
     "output_type": "stream",
     "text": [
      "[[1, 2, 3, 6, 8], [1, 2, 4, 6, 9], [0, 1, 3, 5, 7]]\n"
     ]
    }
   ],
   "source": [
    "my_list = [[2, 6, 8, 3, 1], [2, 6, 4, 1, 9], [0, 7, 3, 5, 1]]\n",
    "\n",
    "def sortedList(liste):\n",
    "    for index, item in enumerate(my_list): # index ve item değerini aynı anda almamızı sağlıyor enumerate\n",
    "        my_list[index]= sorted(item)\n",
    "\n",
    "    return my_list\n",
    "\n",
    "print(sortedList(my_list))\n"
   ]
  },
  {
   "cell_type": "code",
   "execution_count": 13,
   "metadata": {},
   "outputs": [
    {
     "name": "stdout",
     "output_type": "stream",
     "text": [
      "[230, 40, 20, 670]\n"
     ]
    }
   ],
   "source": [
    "multiply_list = lambda x: (i * 10 for i in x) \n",
    "\n",
    "print(list(multiply_list([23, 4, 2, 67]))) # her birini 10 ile çarpmış oldu"
   ]
  }
 ],
 "metadata": {
  "kernelspec": {
   "display_name": "Python 3.10.7 64-bit",
   "language": "python",
   "name": "python3"
  },
  "language_info": {
   "codemirror_mode": {
    "name": "ipython",
    "version": 3
   },
   "file_extension": ".py",
   "mimetype": "text/x-python",
   "name": "python",
   "nbconvert_exporter": "python",
   "pygments_lexer": "ipython3",
   "version": "3.10.7"
  },
  "orig_nbformat": 4,
  "vscode": {
   "interpreter": {
    "hash": "069f238df288ea09d7b18ad4fdd00a6dec393d601f860917fae3606455fbfe67"
   }
  }
 },
 "nbformat": 4,
 "nbformat_minor": 2
}
