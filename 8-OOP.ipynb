{
 "cells": [
  {
   "cell_type": "markdown",
   "metadata": {},
   "source": [
    "OOP - Nesne Tabanlı Programlama\n",
    "\n",
    "Bir sınıf tanımlaması yapmak için;\n",
    "* class sinif_adi():\n",
    "    body \n",
    "\n",
    "* class sinif_adi:\n",
    "    body\n",
    "\n",
    "iki şekilde de tanımlanır. miras, kalıtım ile alakalı bir durum."
   ]
  },
  {
   "cell_type": "markdown",
   "metadata": {},
   "source": [
    "* class (sınıf) # araba modeli içine özellikleri girilir\n",
    "* object (obje, nesne) # arabayı çoğaltmak için nesneleri oluşturuyoruz\n",
    "* attributes (özellik) # arabanım tüm özellikleri\n",
    "* method # içindeki fonksiyonlar"
   ]
  },
  {
   "cell_type": "code",
   "execution_count": 1,
   "metadata": {},
   "outputs": [],
   "source": [
    "class araba:\n",
    "    plaka = \"\"\n",
    "    vites_tipi = \"\"\n",
    "    marka = \"\"\n",
    "    renk = \"\""
   ]
  },
  {
   "cell_type": "code",
   "execution_count": 2,
   "metadata": {},
   "outputs": [],
   "source": [
    "audi = araba() # araba özelliklerini bulunduran nesne oluşturduk, nesnemiz audi\n",
    "audi.marka = \"Audi\" # bir sınıfta birden fazla nesne oluşturabiliriz\n",
    "audi.plaka = \"01 PY 34\"\n",
    "audi.renk = \"Beyaz\"\n",
    "audi.vites_tipi = \"Manuel\""
   ]
  },
  {
   "cell_type": "code",
   "execution_count": 3,
   "metadata": {},
   "outputs": [
    {
     "name": "stdout",
     "output_type": "stream",
     "text": [
      "01 PY 34\n"
     ]
    }
   ],
   "source": [
    "print(audi.plaka)"
   ]
  },
  {
   "cell_type": "code",
   "execution_count": 4,
   "metadata": {},
   "outputs": [],
   "source": [
    "bmw = araba() # araba özelliklerini bulunduran nesne oluşturduk, nesnemiz bmw\n",
    "bmw.marka = \"bmw\" # bir sınıfta birden fazla nesne oluşturabiliriz\n",
    "bmw.plaka = \"65 PY 35\"\n",
    "bmw.renk = \"Siyah\"\n",
    "bmw.vites_tipi = \"Otomatik\""
   ]
  },
  {
   "cell_type": "code",
   "execution_count": 5,
   "metadata": {},
   "outputs": [
    {
     "data": {
      "text/plain": [
       "'Otomatik'"
      ]
     },
     "execution_count": 5,
     "metadata": {},
     "output_type": "execute_result"
    }
   ],
   "source": [
    "bmw.vites_tipi"
   ]
  },
  {
   "cell_type": "code",
   "execution_count": 6,
   "metadata": {},
   "outputs": [
    {
     "name": "stdout",
     "output_type": "stream",
     "text": [
      "<class '__main__.araba'>\n"
     ]
    }
   ],
   "source": [
    "print(type(bmw)) # nesnenin tipini öğrenmek istediğimizde hangi classtan ürettiysek o classı görüyoruz"
   ]
  },
  {
   "cell_type": "code",
   "execution_count": 9,
   "metadata": {},
   "outputs": [],
   "source": [
    "class araba:\n",
    "    plaka = \"\"\n",
    "    vites_tipi = \"\"\n",
    "    marka = \"\"\n",
    "    renk = \"\"\n",
    "    km = 0\n",
    "\n",
    "    def km_artir(self):\n",
    "        self.km += 100\n",
    "        return self.km\n"
   ]
  },
  {
   "cell_type": "code",
   "execution_count": 10,
   "metadata": {},
   "outputs": [
    {
     "data": {
      "text/plain": [
       "100"
      ]
     },
     "execution_count": 10,
     "metadata": {},
     "output_type": "execute_result"
    }
   ],
   "source": [
    "bmw = araba()\n",
    "bmw.km_artir()"
   ]
  },
  {
   "cell_type": "markdown",
   "metadata": {},
   "source": [
    "Default değerler ile class oluşturma "
   ]
  },
  {
   "cell_type": "code",
   "execution_count": 12,
   "metadata": {},
   "outputs": [],
   "source": [
    "class araba:  # miras almıcaz\n",
    "    plaka = \"\"\n",
    "    vites_tipi = \"Manuel\"\n",
    "    marka = \"Audi\"\n",
    "    renk = \"Siyah\"\n",
    "    km = 0"
   ]
  },
  {
   "cell_type": "code",
   "execution_count": 13,
   "metadata": {},
   "outputs": [
    {
     "data": {
      "text/plain": [
       "'Manuel'"
      ]
     },
     "execution_count": 13,
     "metadata": {},
     "output_type": "execute_result"
    }
   ],
   "source": [
    "araba = araba()\n",
    "araba.vites_tipi"
   ]
  },
  {
   "cell_type": "markdown",
   "metadata": {},
   "source": [
    "init() fonksiyonu # yapıcı fonksiyon, nesne oluştururken default olarak çalıştırılan ilk fonksiyondur"
   ]
  },
  {
   "cell_type": "code",
   "execution_count": 19,
   "metadata": {},
   "outputs": [],
   "source": [
    "class araba:\n",
    "    def __init__(self, vites_tipi, marka, renk, plaka, hiz): # her fonksiyonun ilk parametresi self dir.\n",
    "        self.vites_tipi = vites_tipi\n",
    "        self.marka = marka\n",
    "        self.renk = renk\n",
    "        self.plaka = plaka\n",
    "        self.hiz = hiz\n",
    "\n",
    "    def hizArttir(self):\n",
    "        self.hiz += 10\n",
    "        return self.hiz\n"
   ]
  },
  {
   "cell_type": "code",
   "execution_count": 22,
   "metadata": {},
   "outputs": [
    {
     "data": {
      "text/plain": [
       "90"
      ]
     },
     "execution_count": 22,
     "metadata": {},
     "output_type": "execute_result"
    }
   ],
   "source": [
    "audi_araba = araba(\"Otomatik\", \"Audi\", \"Beyaz\", \"23 AU 45\", 80)\n",
    "audi_araba.hizArttir()"
   ]
  },
  {
   "cell_type": "code",
   "execution_count": 24,
   "metadata": {},
   "outputs": [
    {
     "name": "stdout",
     "output_type": "stream",
     "text": [
      "Arabamızın özellikleri: \n",
      "Marka: Audi \n",
      "Plaka: 23 AU 45 \n",
      "Vites: Otomatik \n",
      "Renk: Beyaz\n"
     ]
    }
   ],
   "source": [
    "print(f\"Arabamızın özellikleri: \\nMarka: {audi_araba.marka} \\nPlaka: {audi_araba.plaka} \\nVites: {audi_araba.vites_tipi} \\nRenk: {audi_araba.renk}\")"
   ]
  },
  {
   "cell_type": "markdown",
   "metadata": {},
   "source": [
    "* Encapsulation  (kapsülleme işlemi) # bazı özellikleri gizlicez\n",
    "* Inheritance (miras)\n",
    "* Polymorphism (çok biçimlilik)\n",
    "* Abstract Class\n",
    "* Overriding"
   ]
  },
  {
   "cell_type": "markdown",
   "metadata": {},
   "source": [
    "Encapsulation - Kapsülleme (Erişimi engelleme)"
   ]
  },
  {
   "cell_type": "code",
   "execution_count": 35,
   "metadata": {},
   "outputs": [],
   "source": [
    "class personel:\n",
    "    def __init__(self, isim, sicilno, maas, departman): # ilk parametre self, attributelara erişmemizi sağlıyor \n",
    "        self.isim = isim\n",
    "        self.sicilno = sicilno\n",
    "        self.__maas = maas\n",
    "        self.departman = departman\n",
    "\n",
    "    def getMaas(self): # herhangi bir değeri elde etmek için aldık\n",
    "        return self.__maas\n",
    "\n",
    "    def setMaas(self, yeni_maas): # değere yeni bir değer eklemek için set i kullanıyoruz\n",
    "        self.__maas = yeni_maas"
   ]
  },
  {
   "cell_type": "code",
   "execution_count": 36,
   "metadata": {},
   "outputs": [
    {
     "name": "stdout",
     "output_type": "stream",
     "text": [
      "20000\n",
      "25000\n"
     ]
    }
   ],
   "source": [
    "ik = personel(\"Öykü\", \"TCOYKU\", 20000, \"HR\")\n",
    "print(ik.getMaas())\n",
    "ik.setMaas(25000)\n",
    "print(ik.getMaas())"
   ]
  },
  {
   "cell_type": "code",
   "execution_count": 27,
   "metadata": {},
   "outputs": [
    {
     "ename": "AttributeError",
     "evalue": "'personel' object has no attribute '__maas'",
     "output_type": "error",
     "traceback": [
      "\u001b[1;31m---------------------------------------------------------------------------\u001b[0m",
      "\u001b[1;31mAttributeError\u001b[0m                            Traceback (most recent call last)",
      "Cell \u001b[1;32mIn [27], line 2\u001b[0m\n\u001b[0;32m      1\u001b[0m tpm \u001b[39m=\u001b[39m personel(\u001b[39m\"\u001b[39m\u001b[39mÜmit\u001b[39m\u001b[39m\"\u001b[39m, \u001b[39m\"\u001b[39m\u001b[39mTCUMIT\u001b[39m\u001b[39m\"\u001b[39m, \u001b[39m10000\u001b[39m, \u001b[39m\"\u001b[39m\u001b[39mICT\u001b[39m\u001b[39m\"\u001b[39m)\n\u001b[1;32m----> 2\u001b[0m tpm\u001b[39m.\u001b[39;49m__maas\n",
      "\u001b[1;31mAttributeError\u001b[0m: 'personel' object has no attribute '__maas'"
     ]
    }
   ],
   "source": [
    "tpm = personel(\"Ümit\", \"TCUMIT\", 10000, \"ICT\")\n",
    "tpm.__maas"
   ]
  },
  {
   "cell_type": "markdown",
   "metadata": {},
   "source": [
    "Inheritance ( Kalıtım - Miras ) # çok önemliiii\n",
    "Insource ve outsource - dış kaynak (proje bazlı), iç kardo "
   ]
  },
  {
   "cell_type": "code",
   "execution_count": 37,
   "metadata": {},
   "outputs": [],
   "source": [
    "class personel:\n",
    "    def __init__(self, isim, sicilno, departman): \n",
    "        self.isim = isim\n",
    "        self.sicilno = sicilno\n",
    "        self.departman = departman\n",
    "        print(\"personel classı oluşturuldu\")\n",
    "\n",
    "class inSource(personel): # personel classının tüm özelliklerine sahipsin\n",
    "    def __init__(self, isim, sicilno, departman, yanhak):\n",
    "        super().__init__(isim, sicilno, departman)\n",
    "        self.yanhak = yanhak\n",
    "        print(\"inSource classı ooluşturuldu\")\n"
   ]
  },
  {
   "cell_type": "code",
   "execution_count": 39,
   "metadata": {},
   "outputs": [
    {
     "name": "stdout",
     "output_type": "stream",
     "text": [
      "personel classı oluşturuldu\n",
      "inSource classı ooluşturuldu\n"
     ]
    },
    {
     "data": {
      "text/plain": [
       "True"
      ]
     },
     "execution_count": 39,
     "metadata": {},
     "output_type": "execute_result"
    }
   ],
   "source": [
    "personel = inSource(\"Rabia\", \"TCRABIA\", \"ICT\", True)\n",
    "personel.yanhak"
   ]
  },
  {
   "cell_type": "markdown",
   "metadata": {},
   "source": [
    "Abstract Class ( Soyut Sınıflar )\n",
    " "
   ]
  },
  {
   "cell_type": "code",
   "execution_count": 40,
   "metadata": {},
   "outputs": [],
   "source": [
    "from abc import ABC, abstractmethod  # ABC -> Abstract base class\n",
    "\n",
    "\n",
    "class personel(ABC): \n",
    "    @abstractmethod\n",
    "    def yas(self):\n",
    "        pass"
   ]
  },
  {
   "cell_type": "code",
   "execution_count": 41,
   "metadata": {},
   "outputs": [],
   "source": [
    "class outSource(personel):\n",
    "    def yas(self):\n",
    "        return super().yas()"
   ]
  },
  {
   "cell_type": "markdown",
   "metadata": {},
   "source": [
    "Overriding ( üzerine yazma, ezme ) # alt sınıf üst sınıftaki değeri ezmiş oluyor"
   ]
  },
  {
   "cell_type": "code",
   "execution_count": 57,
   "metadata": {},
   "outputs": [],
   "source": [
    "class personel:\n",
    "    def __init__(self, isim, sicilno, departman): \n",
    "        self.isim = isim\n",
    "        self.sicilno = sicilno\n",
    "        self.departman = departman\n",
    "\n",
    "    def info(self):\n",
    "        print(\"Üst class içerisindeyim\")"
   ]
  },
  {
   "cell_type": "code",
   "execution_count": 58,
   "metadata": {},
   "outputs": [],
   "source": [
    "class inSource(personel):\n",
    "    def __init__(self, isim, sicilno, departman):\n",
    "        super().__init__(isim, sicilno, departman)\n",
    "\n",
    "    def info(self):\n",
    "        print(\"Alt sınıfın içerisindeyim\")"
   ]
  },
  {
   "cell_type": "code",
   "execution_count": 60,
   "metadata": {},
   "outputs": [
    {
     "name": "stdout",
     "output_type": "stream",
     "text": [
      "Alt sınıfın içerisindeyim\n"
     ]
    }
   ],
   "source": [
    "personel = inSource(\"Zeynep\", \"TCZEYNEP\", \"DSS\") # dizin sistemi sunucusu\n",
    "\n",
    "personel.info() # parantez koymayı unutma"
   ]
  },
  {
   "cell_type": "markdown",
   "metadata": {},
   "source": [
    "Polymorphism (Çok Biçimlilik)"
   ]
  },
  {
   "cell_type": "code",
   "execution_count": 63,
   "metadata": {},
   "outputs": [],
   "source": [
    "class personel:\n",
    "    def __init__(self, isim, sicilno, maas): \n",
    "        self.isim = isim\n",
    "        self.sicilno = sicilno\n",
    "        self.maas = maas\n",
    "\n",
    "    def zam(self):\n",
    "        return self.maas * 1.2 "
   ]
  },
  {
   "cell_type": "code",
   "execution_count": 64,
   "metadata": {},
   "outputs": [],
   "source": [
    "class inSource(personel):\n",
    "    def __init__(self, isim, sicilno, maas):\n",
    "        super().__init__(isim, sicilno, maas)\n",
    "\n",
    "    def zam(self):\n",
    "        return self.maas * 1.4"
   ]
  },
  {
   "cell_type": "code",
   "execution_count": 65,
   "metadata": {},
   "outputs": [],
   "source": [
    "class outSource(personel):\n",
    "    def __init__(self, isim, sicilno, maas):\n",
    "        super().__init__(isim, sicilno, maas)\n",
    "\n",
    "    def zam(self):\n",
    "        return self.maas * 1.1"
   ]
  },
  {
   "cell_type": "code",
   "execution_count": 66,
   "metadata": {},
   "outputs": [],
   "source": [
    "personel1 = personel(\"Ayşe Nur\", \"TCNUR\", 10000)\n",
    "personel2 = inSource(\"Zehra\", \"TCZEHRA\", 10000)\n",
    "personel3 = outSource(\"Sude\", \"TCSUDE\", 10000)"
   ]
  },
  {
   "cell_type": "code",
   "execution_count": 67,
   "metadata": {},
   "outputs": [
    {
     "name": "stdout",
     "output_type": "stream",
     "text": [
      "12000.0\n",
      "14000.0\n",
      "11000.0\n"
     ]
    }
   ],
   "source": [
    "print(personel1.zam())\n",
    "print(personel2.zam())\n",
    "print(personel3.zam())"
   ]
  }
 ],
 "metadata": {
  "kernelspec": {
   "display_name": "Python 3.10.7 64-bit",
   "language": "python",
   "name": "python3"
  },
  "language_info": {
   "codemirror_mode": {
    "name": "ipython",
    "version": 3
   },
   "file_extension": ".py",
   "mimetype": "text/x-python",
   "name": "python",
   "nbconvert_exporter": "python",
   "pygments_lexer": "ipython3",
   "version": "3.10.7"
  },
  "orig_nbformat": 4,
  "vscode": {
   "interpreter": {
    "hash": "069f238df288ea09d7b18ad4fdd00a6dec393d601f860917fae3606455fbfe67"
   }
  }
 },
 "nbformat": 4,
 "nbformat_minor": 2
}
